{
 "cells": [
  {
   "cell_type": "code",
   "execution_count": 1,
   "id": "d3a2163d",
   "metadata": {
    "ExecuteTime": {
     "end_time": "2023-05-17T19:33:38.987165Z",
     "start_time": "2023-05-17T19:33:38.904224Z"
    }
   },
   "outputs": [],
   "source": [
    "# import zipfile as zf\n",
    "# Cars_DS_Path ='Datasets/Cars_Dataset_v2.zip'\n",
    "# with zf.ZipFile(Cars_DS_Path, 'r') as zip_ref:\n",
    "#     zip_ref.extractall('Datasets/Cars_Dataset_v2')"
   ]
  },
  {
   "cell_type": "code",
   "execution_count": 2,
   "id": "3955732f",
   "metadata": {
    "ExecuteTime": {
     "end_time": "2023-05-17T19:33:53.657208Z",
     "start_time": "2023-05-17T19:33:38.929367Z"
    }
   },
   "outputs": [
    {
     "name": "stderr",
     "output_type": "stream",
     "text": [
      "2023-07-27 00:20:29.260258: I tensorflow/tsl/cuda/cudart_stub.cc:28] Could not find cuda drivers on your machine, GPU will not be used.\n",
      "2023-07-27 00:20:29.323505: I tensorflow/tsl/cuda/cudart_stub.cc:28] Could not find cuda drivers on your machine, GPU will not be used.\n",
      "2023-07-27 00:20:30.463055: W tensorflow/compiler/tf2tensorrt/utils/py_utils.cc:38] TF-TRT Warning: Could not find TensorRT\n"
     ]
    }
   ],
   "source": [
    "import os\n",
    "import cv2\n",
    "import numpy as np\n",
    "from sklearn.model_selection import train_test_split\n",
    "from keras.utils import to_categorical\n",
    "from keras.models import Sequential\n",
    "from keras.layers import Conv2D, MaxPooling2D, Flatten, Dense\n"
   ]
  },
  {
   "cell_type": "code",
   "execution_count": 3,
   "id": "8abf986a",
   "metadata": {
    "ExecuteTime": {
     "end_time": "2023-05-17T19:34:30.464247Z",
     "start_time": "2023-05-17T19:33:53.668473Z"
    }
   },
   "outputs": [
    {
     "name": "stdout",
     "output_type": "stream",
     "text": [
      "(5712, 100, 100, 3)\n",
      "(5712,)\n"
     ]
    }
   ],
   "source": [
    "# Specify the path to the dataset directory\n",
    "dataset_dir = 'Datasets/Tumor_detection/Training'\n",
    "\n",
    "\n",
    "image_height = 100\n",
    "image_width = 100\n",
    "\n",
    "target_size = (image_height, image_width)\n",
    "\n",
    "# Initialize lists to store the images and labels\n",
    "images = []\n",
    "labels = []\n",
    "\n",
    "# Iterate over the subdirectories in the dataset directory\n",
    "for subdir in os.listdir(dataset_dir):\n",
    "    subdir_path = os.path.join(dataset_dir, subdir)\n",
    "    if os.path.isdir(subdir_path):\n",
    "        # Extract the class label from the subdirectory name\n",
    "        label = subdir\n",
    "        # Iterate over the image files in the subdirectory\n",
    "        for file_name in os.listdir(subdir_path):\n",
    "            # Read the image file\n",
    "            image_path = os.path.join(subdir_path, file_name)\n",
    "            image = cv2.imread(image_path)\n",
    "            # Preprocess the image (resize, normalize, etc.)\n",
    "            image = cv2.resize(image, target_size)\n",
    "            # Add the preprocessed image and label to the lists\n",
    "            images.append(image)\n",
    "            labels.append(label)\n",
    "\n",
    "# Convert the lists to NumPy arrays\n",
    "images = np.array(images)\n",
    "labels = np.array(labels)\n",
    "print(images.shape)\n",
    "print(labels.shape)"
   ]
  },
  {
   "cell_type": "code",
   "execution_count": 4,
   "id": "897b66bf",
   "metadata": {
    "ExecuteTime": {
     "end_time": "2023-05-17T19:34:34.974356Z",
     "start_time": "2023-05-17T19:34:30.481703Z"
    }
   },
   "outputs": [
    {
     "name": "stdout",
     "output_type": "stream",
     "text": [
      "4\n"
     ]
    }
   ],
   "source": [
    "# Perform any required preprocessing steps on the images and labels\n",
    "\n",
    "from sklearn.model_selection import train_test_split\n",
    "from sklearn.preprocessing import LabelEncoder\n",
    "\n",
    "\n",
    "# Split the dataset into training and testing sets\n",
    "train_images, test_images, train_labels0, test_labels0 = train_test_split(images, labels, test_size=0.2, random_state=42)\n",
    "\n",
    "# Convert the labels to one-hot encoded vectors\n",
    "num_classes = len(np.unique(labels))\n",
    "\n",
    "print(num_classes)\n",
    "\n",
    "label_encoder = LabelEncoder()\n",
    "train_labels1 = label_encoder.fit_transform(train_labels0)\n",
    "test_labels1  = label_encoder.fit_transform(test_labels0)\n",
    "\n",
    "\n",
    "from tensorflow.keras.utils import to_categorical\n",
    "\n",
    "train_labels = to_categorical(train_labels1, num_classes)\n",
    "test_labels = to_categorical(test_labels1, num_classes)\n"
   ]
  },
  {
   "cell_type": "code",
   "execution_count": 5,
   "id": "65b46505",
   "metadata": {
    "ExecuteTime": {
     "end_time": "2023-05-17T19:34:35.503356Z",
     "start_time": "2023-05-17T19:34:34.980553Z"
    }
   },
   "outputs": [
    {
     "name": "stderr",
     "output_type": "stream",
     "text": [
      "2023-07-27 00:20:45.228638: I tensorflow/compiler/xla/stream_executor/cuda/cuda_gpu_executor.cc:995] successful NUMA node read from SysFS had negative value (-1), but there must be at least one NUMA node, so returning NUMA node zero. See more at https://github.com/torvalds/linux/blob/v6.0/Documentation/ABI/testing/sysfs-bus-pci#L344-L355\n",
      "2023-07-27 00:20:45.254989: W tensorflow/core/common_runtime/gpu/gpu_device.cc:1960] Cannot dlopen some GPU libraries. Please make sure the missing libraries mentioned above are installed properly if you would like to use GPU. Follow the guide at https://www.tensorflow.org/install/gpu for how to download and setup the required libraries for your platform.\n",
      "Skipping registering GPU devices...\n"
     ]
    }
   ],
   "source": [
    "model = Sequential()\n",
    "\n",
    "\n",
    "\n",
    "# Add convolutional and pooling layers\n",
    "model.add(Conv2D(32, (3, 3), activation='relu', input_shape=(image_height, image_width, 3)))\n",
    "model.add(MaxPooling2D(pool_size=(2, 2)))\n",
    "\n",
    "# Add more convolutional and pooling layers if desired\n",
    "\n",
    "# Flatten the output from the previous layer\n",
    "model.add(Flatten())\n",
    "\n",
    "# Add fully connected layers\n",
    "model.add(Dense(128, activation='relu'))\n",
    "model.add(Dense(num_classes, activation='softmax'))\n",
    "\n",
    "# Compile the model\n",
    "model.compile(optimizer='adam', loss='categorical_crossentropy', metrics=['accuracy'])\n",
    "\n",
    "\n",
    "\n",
    "\n"
   ]
  },
  {
   "cell_type": "code",
   "execution_count": 6,
   "id": "0a40abb3",
   "metadata": {
    "ExecuteTime": {
     "end_time": "2023-05-17T19:34:35.518669Z",
     "start_time": "2023-05-17T19:34:35.507382Z"
    }
   },
   "outputs": [
    {
     "name": "stdout",
     "output_type": "stream",
     "text": [
      "(4569, 100, 100, 3)\n",
      "(4569, 4)\n",
      "(1143, 100, 100, 3)\n",
      "(1143, 4)\n"
     ]
    }
   ],
   "source": [
    "num_epochs = 1\n",
    "batch_size = 10\n",
    "\n",
    "\n",
    "print(train_images.shape)\n",
    "print(train_labels.shape)\n",
    "print(test_images.shape)\n",
    "print(test_labels.shape)"
   ]
  },
  {
   "cell_type": "code",
   "execution_count": 7,
   "id": "99eb763f",
   "metadata": {
    "ExecuteTime": {
     "end_time": "2023-05-17T19:36:03.158651Z",
     "start_time": "2023-05-17T19:34:35.532904Z"
    }
   },
   "outputs": [
    {
     "name": "stdout",
     "output_type": "stream",
     "text": [
      "322/457 [====================>.........] - ETA: 20s - loss: 57.2437 - accuracy: 0.6860"
     ]
    }
   ],
   "source": [
    "\n",
    "model.fit(train_images, train_labels, epochs=num_epochs, batch_size=batch_size, validation_data=(test_images, test_labels))\n",
    "\n",
    "\n"
   ]
  },
  {
   "cell_type": "code",
   "execution_count": null,
   "id": "185f330e",
   "metadata": {
    "ExecuteTime": {
     "end_time": "2023-05-17T19:36:05.554265Z",
     "start_time": "2023-05-17T19:36:03.111474Z"
    }
   },
   "outputs": [
    {
     "name": "stdout",
     "output_type": "stream",
     "text": [
      "36/36 [==============================] - 2s 62ms/step - loss: 0.7148 - accuracy: 0.8801\n",
      "Test Loss: 0.7148\n",
      "Test Accuracy: 0.8801\n"
     ]
    }
   ],
   "source": [
    "loss, accuracy = model.evaluate(test_images, test_labels)\n",
    "print(f'Test Loss: {loss:.4f}')\n",
    "print(f'Test Accuracy: {accuracy:.4f}')"
   ]
  },
  {
   "cell_type": "code",
   "execution_count": null,
   "id": "7d492eed",
   "metadata": {
    "ExecuteTime": {
     "end_time": "2023-05-17T19:36:05.568063Z",
     "start_time": "2023-05-17T19:36:05.536314Z"
    }
   },
   "outputs": [],
   "source": [
    "# # Perform any necessary preprocessing steps on the input image\n",
    "\n",
    "# # Make predictions on the preprocessed image\n",
    "# prediction = model.predict(test_images)\n",
    "\n",
    "# # Process the prediction (e.g., retrieve the predicted class label)\n",
    "# predicted_label = np.argmax(prediction)\n",
    "# print(predicted_label)"
   ]
  },
  {
   "cell_type": "code",
   "execution_count": null,
   "id": "0d8d56ef",
   "metadata": {
    "ExecuteTime": {
     "end_time": "2023-05-17T19:36:05.599833Z",
     "start_time": "2023-05-17T19:36:05.590241Z"
    }
   },
   "outputs": [],
   "source": []
  }
 ],
 "metadata": {
  "kernelspec": {
   "display_name": "Python 3 (ipykernel)",
   "language": "python",
   "name": "python3"
  },
  "language_info": {
   "codemirror_mode": {
    "name": "ipython",
    "version": 3
   },
   "file_extension": ".py",
   "mimetype": "text/x-python",
   "name": "python",
   "nbconvert_exporter": "python",
   "pygments_lexer": "ipython3",
   "version": "3.11.3"
  }
 },
 "nbformat": 4,
 "nbformat_minor": 5
}
