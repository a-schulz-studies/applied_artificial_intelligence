{
 "cells": [
  {
   "cell_type": "markdown",
   "metadata": {},
   "source": [
    "* Generic Algorithms\n",
    "* Particle Swarm Optimation"
   ]
  },
  {
   "cell_type": "code",
   "execution_count": null,
   "metadata": {},
   "outputs": [],
   "source": [
    "# Preprocessing\n",
    "\n",
    "# Removing missing values\n",
    "df = csvFile.copy()\n",
    "df.dropna(inplace = True)\n",
    "\n",
    "# Removing duplicates\n",
    "df.drop_duplicates(subset=None, keep='first', inplace=True, ignore_index=False)\n",
    "\n",
    "# Removing anomalies\n",
    "df = df.drop(df[df.ph < 4].index, inplace=True)\n",
    "\n",
    "print(csvFile.size)\n",
    "print(df.size)"
   ]
  },
  {
   "cell_type": "code",
   "execution_count": null,
   "metadata": {},
   "outputs": [],
   "source": [
    "# Cross folding\n",
    "# folding for 3,4,5\n",
    "for curr in range(3,6):\n",
    "    num_folds = curr\n",
    "    score = 0\n",
    "    # implement cross validation\n",
    "    # https://de.mathworks.com/discovery/cross-validation.html\n",
    "    for i in range(0, num_folds):\n",
    "        partition_size = int(np.floor(csvFile.shape[0] / num_folds))\n",
    "        left_border = partition_size * i\n",
    "        right_border = partition_size * (i + 1)\n",
    "        testInds = numsMe[left_border:right_border]\n",
    "        trainInds = np.concatenate((numsMe[0:left_border], numsMe[right_border:csvFile.shape[0]]))\n",
    "\n",
    "        TrainX, TestX = X[trainInds], X[testInds]\n",
    "        TrainY, TestY = Y[trainInds], Y[testInds]\n",
    "\n",
    "        clf_dt = tree.DecisionTreeClassifier()\n",
    "        clf_dt = clf_dt.fit(TrainX, TrainY)\n",
    "\n",
    "        predY_dt = clf_dt.predict(TestX)\n",
    "\n",
    "        score = score + accuracy_score(TestY, predY_dt)\n",
    "    plt.bar(num_folds, score/num_folds)\n",
    "plt.show()"
   ]
  },
  {
   "cell_type": "code",
   "execution_count": null,
   "metadata": {},
   "outputs": [],
   "source": [
    "# One hot encoding\n",
    "Y_Arr = np.zeros((Y.shape[0], 3))\n",
    "for i in range(Y.shape[0]):\n",
    "    if Y[i] == 1:\n",
    "        Y_Arr[i] = [1, 0, 0]\n",
    "    elif Y[i] == 2:\n",
    "        Y_Arr[i] = [0, 1, 0]\n",
    "    elif Y[i] == 3:\n",
    "        Y_Arr[i] = [0, 0, 1]\n",
    "\n",
    "# Accuracy\n",
    "correct_preds = 0\n",
    "for index, i in enumerate(preds):\n",
    "    if np.array_equal(i, TestY[index]):\n",
    "        correct_preds = correct_preds + 1\n",
    "accuracy = correct_preds / len(TestY)\n",
    "print(\"Accuracy=\" + str(accuracy))"
   ]
  },
  {
   "cell_type": "code",
   "execution_count": null,
   "metadata": {},
   "outputs": [],
   "source": [
    "# Normalization\n",
    "for i in range(X.shape[1]):\n",
    "    # Scaling normalization\n",
    "    X[:, i] = (X[:, i] - np.amin(X[:, i])) / (np.amax(X[:, i]) - np.amin(X[:, i]))\n"
   ]
  }
 ],
 "metadata": {
  "kernelspec": {
   "display_name": "applied-artificial-intelligence-D2XDAjBL-py3.11",
   "language": "python",
   "name": "python3"
  },
  "language_info": {
   "name": "python",
   "version": "3.11.3"
  },
  "orig_nbformat": 4
 },
 "nbformat": 4,
 "nbformat_minor": 2
}
