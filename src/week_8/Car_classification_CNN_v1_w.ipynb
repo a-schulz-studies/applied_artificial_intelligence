{
 "cells": [
  {
   "cell_type": "code",
   "execution_count": null,
   "id": "d3a2163d",
   "metadata": {},
   "outputs": [],
   "source": [
    "# import zipfile as zf\n",
    "# Cars_DS_Path ='Datasets/Cars_Dataset_v2.zip'\n",
    "# with zf.ZipFile(Cars_DS_Path, 'r') as zip_ref:\n",
    "#     zip_ref.extractall('Datasets/Cars_Dataset_v2')"
   ]
  },
  {
   "cell_type": "code",
   "execution_count": null,
   "id": "3955732f",
   "metadata": {},
   "outputs": [],
   "source": [
    "import os\n",
    "import cv2\n",
    "import numpy as np\n",
    "from sklearn.model_selection import train_test_split\n",
    "from keras.utils import to_categorical\n",
    "from keras.models import Sequential\n",
    "from keras.layers import Conv2D, MaxPooling2D, Flatten, Dense\n"
   ]
  },
  {
   "cell_type": "code",
   "execution_count": null,
   "id": "8abf986a",
   "metadata": {},
   "outputs": [],
   "source": [
    "# Specify the path to the dataset directory\n",
    "dataset_dir = 'Datasets/Cars_Dataset_v2/Cars_Dataset_v2'\n",
    "\n",
    "# Initialize lists to store the images and labels\n",
    "images = []\n",
    "labels = []\n",
    "\n",
    "# Iterate over the subdirectories in the dataset directory\n",
    "for subdir in os.listdir(dataset_dir):\n",
    "    subdir_path = os.path.join(dataset_dir, subdir)\n",
    "    if os.path.isdir(subdir_path):\n",
    "        # Extract the class label from the subdirectory name\n",
    "        label = subdir\n",
    "        # Iterate over the image files in the subdirectory\n",
    "        for file_name in os.listdir(subdir_path):\n",
    "            # Read the image file\n",
    "            image_path = os.path.join(subdir_path, file_name)\n",
    "            image = cv2.imread(image_path)\n",
    "            # Preprocess the image (resize, normalize, etc.)\n",
    "            # Add the preprocessed image and label to the lists\n",
    "            images.append(image)\n",
    "            labels.append(label)\n",
    "\n",
    "# Convert the lists to NumPy arrays\n",
    "images = np.array(images)\n",
    "labels = np.array(labels)\n",
    "print(images.shape)\n",
    "print(labels.shape)"
   ]
  },
  {
   "cell_type": "code",
   "execution_count": 18,
   "id": "897b66bf",
   "metadata": {},
   "outputs": [
    {
     "name": "stdout",
     "output_type": "stream",
     "text": [
      "9\n"
     ]
    }
   ],
   "source": [
    "# Perform any required preprocessing steps on the images and labels\n",
    "\n",
    "from sklearn.model_selection import train_test_split\n",
    "from sklearn.preprocessing import LabelEncoder\n",
    "\n",
    "\n",
    "# Split the dataset into training and testing sets\n",
    "train_images, test_images, train_labels0, test_labels0 = train_test_split(images, labels, test_size=0.2, random_state=42)\n",
    "\n",
    "# Convert the labels to one-hot encoded vectors\n",
    "num_classes = len(np.unique(labels))\n",
    "\n",
    "print(num_classes)\n",
    "\n",
    "label_encoder = LabelEncoder()\n",
    "train_labels1 = label_encoder.fit_transform(train_labels0)\n",
    "test_labels1  = label_encoder.fit_transform(test_labels0)\n",
    "\n",
    "\n",
    "from tensorflow.keras.utils import to_categorical\n",
    "\n",
    "train_labels = to_categorical(train_labels1, num_classes)\n",
    "test_labels = to_categorical(test_labels1, num_classes)\n"
   ]
  },
  {
   "cell_type": "code",
   "execution_count": 21,
   "id": "65b46505",
   "metadata": {},
   "outputs": [
    {
     "name": "stdout",
     "output_type": "stream",
     "text": [
      "(1238, 224, 224, 3)\n",
      "(1238, 9)\n",
      "(310, 224, 224, 3)\n",
      "(310, 9)\n"
     ]
    }
   ],
   "source": [
    "model = Sequential()\n",
    "\n",
    "image_height = 224\n",
    "image_width = 224\n",
    "\n",
    "# Add convolutional and pooling layers\n",
    "model.add(Conv2D(32, (3, 3), activation='relu', input_shape=(image_height, image_width, 3)))\n",
    "model.add(MaxPooling2D(pool_size=(2, 2)))\n",
    "\n",
    "# Add more convolutional and pooling layers if desired\n",
    "\n",
    "# Flatten the output from the previous layer\n",
    "model.add(Flatten())\n",
    "\n",
    "# Add fully connected layers\n",
    "model.add(Dense(128, activation='relu'))\n",
    "model.add(Dense(num_classes, activation='softmax'))\n",
    "\n",
    "# Compile the model\n",
    "model.compile(optimizer='adam', loss='categorical_crossentropy', metrics=['accuracy'])\n",
    "\n",
    "\n",
    "num_epochs = 1\n",
    "batch_size = 10\n",
    "\n",
    "\n",
    "print(train_images.shape)\n",
    "print(train_labels.shape)\n",
    "print(test_images.shape)\n",
    "print(test_labels.shape)\n",
    "\n"
   ]
  },
  {
   "cell_type": "code",
   "execution_count": 22,
   "id": "99eb763f",
   "metadata": {},
   "outputs": [
    {
     "name": "stdout",
     "output_type": "stream",
     "text": [
      "124/124 [==============================] - 74s 595ms/step - loss: 850.4769 - accuracy: 0.1616 - val_loss: 2.3175 - val_accuracy: 0.1355\n"
     ]
    },
    {
     "data": {
      "text/plain": [
       "<keras.callbacks.History at 0x1a1bffce9d0>"
      ]
     },
     "execution_count": 22,
     "metadata": {},
     "output_type": "execute_result"
    }
   ],
   "source": [
    "\n",
    "model.fit(train_images, train_labels, epochs=num_epochs, batch_size=batch_size, validation_data=(test_images, test_labels))\n",
    "\n",
    "\n"
   ]
  },
  {
   "cell_type": "code",
   "execution_count": 23,
   "id": "185f330e",
   "metadata": {},
   "outputs": [
    {
     "name": "stdout",
     "output_type": "stream",
     "text": [
      "10/10 [==============================] - 1s 123ms/step - loss: 2.3175 - accuracy: 0.1355\n",
      "Test Loss: 2.3175\n",
      "Test Accuracy: 0.1355\n"
     ]
    }
   ],
   "source": [
    "loss, accuracy = model.evaluate(test_images, test_labels)\n",
    "print(f'Test Loss: {loss:.4f}')\n",
    "print(f'Test Accuracy: {accuracy:.4f}')"
   ]
  },
  {
   "cell_type": "code",
   "execution_count": null,
   "id": "7d492eed",
   "metadata": {},
   "outputs": [],
   "source": [
    "# # Perform any necessary preprocessing steps on the input image\n",
    "\n",
    "# # Make predictions on the preprocessed image\n",
    "# prediction = model.predict(test_images)\n",
    "\n",
    "# # Process the prediction (e.g., retrieve the predicted class label)\n",
    "# predicted_label = np.argmax(prediction)\n",
    "# print(predicted_label)"
   ]
  },
  {
   "cell_type": "code",
   "execution_count": null,
   "id": "0d8d56ef",
   "metadata": {},
   "outputs": [],
   "source": []
  }
 ],
 "metadata": {
  "kernelspec": {
   "display_name": "Python 3 (ipykernel)",
   "language": "python",
   "name": "python3"
  },
  "language_info": {
   "codemirror_mode": {
    "name": "ipython",
    "version": 3
   },
   "file_extension": ".py",
   "mimetype": "text/x-python",
   "name": "python",
   "nbconvert_exporter": "python",
   "pygments_lexer": "ipython3",
   "version": "3.9.7"
  }
 },
 "nbformat": 4,
 "nbformat_minor": 5
}
