{
 "cells": [
  {
   "cell_type": "code",
   "execution_count": null,
   "id": "f48fa984",
   "metadata": {},
   "outputs": [],
   "source": [
    "from skimage import data\n",
    "import numpy as np\n",
    "import matplotlib.pyplot as plt\n",
    "from skimage.exposure import histogram\n",
    "from skimage.color import rgb2gray\n",
    "from skimage import color\n",
    "from skimage import io\n",
    "\n",
    "# img = io.imread('Altstadt-Dresden-1180x786.jpg')\n",
    "# imgGray = color.rgb2gray(img)\n",
    "\n",
    "# io.imshow(imgGray)\n",
    "# plt.figure()\n",
    "# plt.imshow(imgGray, cmap=plt.cm.gray)\n",
    "\n",
    "# print(imgGray.shape)\n",
    "coins = data.coins()\n",
    "gCoins = rgb2gray(coins)\n",
    "plt.imshow(coins)\n",
    "plt.figure()\n",
    "plt.imshow(gCoins, cmap=plt.cm.gray)\n",
    "# original = data.astronaut()\n",
    "# grayscale = rgb2gray(original)\n",
    "\n",
    "# fig, axes = plt.subplots(1, 2, figsize=(8, 4))\n",
    "# ax = axes.ravel()\n",
    "\n",
    "# ax[0].imshow(original)\n",
    "# ax[0].set_title(\"Original\")\n",
    "# ax[1].imshow(grayscale, cmap=plt.cm.gray)\n",
    "# ax[1].set_title(\"Grayscale\")\n",
    "\n",
    "# fig.tight_layout()\n",
    "# plt.show()"
   ]
  },
  {
   "cell_type": "code",
   "execution_count": null,
   "id": "493db5dd",
   "metadata": {},
   "outputs": [],
   "source": [
    "hist, hist_centers = histogram(gCoins)\n",
    "plt.plot(hist)\n",
    "plt.show()"
   ]
  },
  {
   "cell_type": "code",
   "execution_count": null,
   "id": "25b5dd54",
   "metadata": {},
   "outputs": [],
   "source": [
    "plt.imshow(gCoins, cmap=plt.cm.gray)"
   ]
  },
  {
   "cell_type": "code",
   "execution_count": null,
   "id": "ab9819e8",
   "metadata": {},
   "outputs": [],
   "source": [
    "b = coins.copy()\n",
    "\n",
    "ThresholdUp = 199\n",
    "ThresholdBottom = 0\n",
    "b = np.clip(b, 110, 150)\n",
    "\n",
    "plt.imshow(b, cmap=plt.cm.gray)"
   ]
  },
  {
   "cell_type": "code",
   "execution_count": null,
   "id": "6a407ec2",
   "metadata": {},
   "outputs": [],
   "source": [
    "c = gCoins.copy()\n",
    "\n",
    "_thUp = 255\n",
    "_thLow = 115\n",
    "_indexes = np.where((gCoins>_thLow) & (gCoins<_thUp))\n",
    "c[_indexes] = 255\n",
    "plt.imshow(c, cmap=plt.cm.gray)\n"
   ]
  },
  {
   "cell_type": "code",
   "execution_count": null,
   "id": "1b536459",
   "metadata": {},
   "outputs": [],
   "source": [
    "from skimage.feature import canny\n",
    "edges = canny(gCoins/255.)\n",
    "plt.imshow(edges, cmap=plt.cm.gray)"
   ]
  },
  {
   "cell_type": "code",
   "execution_count": null,
   "id": "cd4b2017",
   "metadata": {},
   "outputs": [],
   "source": [
    "from scipy import ndimage as ndi\n",
    "fill_coins = ndi.binary_fill_holes(edges)\n",
    "plt.imshow(fill_coins, cmap=plt.cm.gray)"
   ]
  },
  {
   "cell_type": "code",
   "execution_count": null,
   "id": "6b4a656f",
   "metadata": {},
   "outputs": [],
   "source": [
    "label_objects, nb_labels = ndi.label(fill_coins)\n",
    "sizes = np.bincount(label_objects.ravel())\n",
    "mask_sizes = sizes > 20\n",
    "mask_sizes[0] = 0\n",
    "coins_cleaned = mask_sizes[label_objects]\n",
    "plt.imshow(coins_cleaned, cmap=plt.cm.gray)"
   ]
  },
  {
   "cell_type": "code",
   "execution_count": null,
   "id": "82d44c4e",
   "metadata": {},
   "outputs": [],
   "source": [
    "markers = np.zeros_like(coins)\n",
    "markers[coins < 30] = 0\n",
    "markers[coins > 150] = 255\n",
    "plt.imshow(markers, cmap=plt.cm.gray)"
   ]
  },
  {
   "cell_type": "code",
   "execution_count": null,
   "id": "28fb33fa",
   "metadata": {},
   "outputs": [],
   "source": [
    "from skimage.filters import sobel\n",
    "elevation_map = sobel(coins)\n",
    "plt.imshow(elevation_map, cmap=plt.cm.gray)\n"
   ]
  },
  {
   "cell_type": "code",
   "execution_count": null,
   "id": "d607b95d",
   "metadata": {},
   "outputs": [],
   "source": [
    "from skimage.segmentation import watershed\n",
    "\n",
    "markers = np.zeros_like(coins)\n",
    "markers[coins < 30] = 1\n",
    "markers[coins > 150] = 2\n",
    "\n",
    "plt.imshow(markers)"
   ]
  },
  {
   "cell_type": "code",
   "execution_count": null,
   "id": "7ea5c253",
   "metadata": {},
   "outputs": [],
   "source": [
    "segmentation = watershed(elevation_map, markers)\n",
    "plt.imshow(segmentation)"
   ]
  },
  {
   "cell_type": "code",
   "execution_count": null,
   "id": "015ac764",
   "metadata": {},
   "outputs": [],
   "source": [
    "elevation_map = sobel(coins)\n",
    "\n",
    "markers = np.zeros_like(coins)\n",
    "markers[coins < 30] = 1\n",
    "markers[coins > 150] = 2\n",
    "segmentation = watershed(elevation_map, markers)\n",
    "segmentation1 = ndi.binary_fill_holes(segmentation - 1)\n",
    "\n",
    "plt.imshow(segmentation)\n",
    "plt.figure()\n",
    "plt.imshow(segmentation1)"
   ]
  },
  {
   "cell_type": "code",
   "execution_count": null,
   "id": "1caf2d49",
   "metadata": {},
   "outputs": [],
   "source": [
    "labeled_coins, _ = ndi.label(segmentation1)\n",
    "plt.imshow(labeled_coins)"
   ]
  },
  {
   "cell_type": "code",
   "execution_count": null,
   "id": "9f9b3dc1",
   "metadata": {},
   "outputs": [],
   "source": []
  }
 ],
 "metadata": {
  "kernelspec": {
   "display_name": "Python 3 (ipykernel)",
   "language": "python",
   "name": "python3"
  },
  "language_info": {
   "codemirror_mode": {
    "name": "ipython",
    "version": 3
   },
   "file_extension": ".py",
   "mimetype": "text/x-python",
   "name": "python",
   "nbconvert_exporter": "python",
   "pygments_lexer": "ipython3",
   "version": "3.9.7"
  }
 },
 "nbformat": 4,
 "nbformat_minor": 5
}
