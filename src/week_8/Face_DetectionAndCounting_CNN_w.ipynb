{
 "cells": [
  {
   "cell_type": "code",
   "execution_count": 6,
   "id": "1f6b10e9",
   "metadata": {},
   "outputs": [],
   "source": [
    "import cv2\n",
    "import numpy as np\n",
    "\n",
    "face_cascade = cv2.CascadeClassifier('SupMat/haarcascade_frontalface_default.xml')\n",
    "\n",
    "model_path = 'SupMat/opencv_face_detector_uint8.pb'  # Path to the pre-trained model file\n",
    "config_path = 'SupMat/opencv_face_detector.pbtxt'  # Path to the model's configuration file\n",
    "net = cv2.dnn.readNetFromTensorflow(model_path, config_path)\n",
    "\n",
    "\n",
    "image = cv2.imread('SupMat/faces-of-2025_horizontal-hero.jpg')\n",
    "\n",
    "gray = cv2.cvtColor(image, cv2.COLOR_BGR2GRAY)\n",
    "\n",
    "\n",
    "faces = face_cascade.detectMultiScale(gray, scaleFactor=1.1, minNeighbors=5, minSize=(30, 30))\n",
    "\n",
    "\n",
    "blob = cv2.dnn.blobFromImage(image, 1.0, (300, 300), (104.0, 177.0, 123.0), swapRB=True, crop=False)\n",
    "net.setInput(blob)\n",
    "detections = net.forward()\n",
    "\n",
    "num_faces = len(faces)  # For Haar cascades\n",
    "num_faces = detections.shape[2]  # For deep learning-based models\n",
    "\n",
    "for (x, y, w, h) in faces:\n",
    "    cv2.rectangle(image, (x, y), (x + w, y + h), (0, 255, 0), 2)\n",
    "cv2.putText(image, f\"Faces: {num_faces}\", (10, 30), cv2.FONT_HERSHEY_SIMPLEX, 0.8, (0, 255, 0), 2)\n",
    "cv2.imshow(\"Face Detection\", image)\n",
    "cv2.waitKey(0)\n",
    "cv2.destroyAllWindows()\n",
    "\n"
   ]
  },
  {
   "cell_type": "code",
   "execution_count": null,
   "id": "44c16f9c",
   "metadata": {},
   "outputs": [],
   "source": []
  },
  {
   "cell_type": "code",
   "execution_count": null,
   "id": "a3ed22c8",
   "metadata": {},
   "outputs": [],
   "source": []
  }
 ],
 "metadata": {
  "kernelspec": {
   "display_name": "Python 3 (ipykernel)",
   "language": "python",
   "name": "python3"
  },
  "language_info": {
   "codemirror_mode": {
    "name": "ipython",
    "version": 3
   },
   "file_extension": ".py",
   "mimetype": "text/x-python",
   "name": "python",
   "nbconvert_exporter": "python",
   "pygments_lexer": "ipython3",
   "version": "3.9.7"
  }
 },
 "nbformat": 4,
 "nbformat_minor": 5
}
