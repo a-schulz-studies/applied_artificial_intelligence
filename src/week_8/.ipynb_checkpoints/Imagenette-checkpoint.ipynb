{
 "cells": [
  {
   "cell_type": "code",
   "execution_count": 2,
   "id": "1f30827b",
   "metadata": {},
   "outputs": [
    {
     "name": "stderr",
     "output_type": "stream",
     "text": [
      "C:\\ProgramData\\Anaconda3\\python.exe: can't open file 'C:\\Users\\Fouad\\Applied AI module\\Week 8\\wget': [Errno 2] No such file or directory\n",
      "C:\\ProgramData\\Anaconda3\\python.exe: can't open file 'C:\\Users\\Fouad\\Applied AI module\\Week 8\\tar': [Errno 2] No such file or directory\n"
     ]
    }
   ],
   "source": [
    "import sys\n",
    "!{sys.executable} $ wget https://s3.amazonaws.com/fast-ai-imageclas/imagenette2.tgz\n",
    "!{sys.executable} $ tar -xf imagenette2.tgz"
   ]
  },
  {
   "cell_type": "code",
   "execution_count": null,
   "id": "6ac1efc3",
   "metadata": {},
   "outputs": [],
   "source": []
  }
 ],
 "metadata": {
  "kernelspec": {
   "display_name": "Python 3 (ipykernel)",
   "language": "python",
   "name": "python3"
  },
  "language_info": {
   "codemirror_mode": {
    "name": "ipython",
    "version": 3
   },
   "file_extension": ".py",
   "mimetype": "text/x-python",
   "name": "python",
   "nbconvert_exporter": "python",
   "pygments_lexer": "ipython3",
   "version": "3.9.7"
  }
 },
 "nbformat": 4,
 "nbformat_minor": 5
}
