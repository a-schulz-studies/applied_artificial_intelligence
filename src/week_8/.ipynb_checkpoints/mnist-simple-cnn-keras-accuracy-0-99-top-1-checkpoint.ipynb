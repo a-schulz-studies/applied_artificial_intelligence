{
 "cells": [
  {
   "cell_type": "markdown",
   "metadata": {},
   "source": [
    "# MNIST: Introduction to CNN Keras\n",
    "\n",
    "* **1. Introduction**\n",
    "* **2. Data preparation**\n",
    "    * 2.1 Load data\n",
    "    * 2.2 Normalization\n",
    "    * 2.3 Reshape\n",
    "    * 2.4 Label encoding\n",
    "    * 2.5 Split training and valdiation set\n",
    "* **3. Convolution Neural Network**\n",
    "    * 3.1 Define the model\n",
    "    * 3.2 Data augmentation\n",
    "    * 3.3 Model training\n",
    "* **4. Evaluate the model**\n",
    "    * 4.1 Training and validation curves\n",
    "    * 4.2 Confusion matrix\n",
    "* **5. Prediction and submition**\n",
    "    * 5.1 Prediction validation results\n",
    "    * 5.2 Submition\n",
    "* **6. References**\n",
    "* **7. Sklearn Soluation**\n",
    "\n",
    "<hr><br>\n",
    "\n",
    "**NEW IN VERSION 8:**\n",
    "\n",
    "* Adding EarlyStoping callback\n",
    "* ReduceLROnPlateau"
   ]
  },
  {
   "cell_type": "markdown",
   "metadata": {},
   "source": [
    "# 1. Introduction\n",
    "\n",
    "This kernel is your start in deep learning.\n",
    "\n",
    "MNIST (\"Modified National Institute of Standards and Technology\") is the de facto “hello world” dataset of computer vision. Since its release in 1999, this classic dataset of handwritten images has served as the basis for benchmarking classification algorithms. A new machine learning techniques emerge, MNIST remains a reliable resource for researchers and learners alike.  In this competition, your goal is to correctly identify digits from a dataset of tens of thousands of handwritten images. We’ve curated a set of tutorial-style kernels which cover everything from regression to neural networks. We encourage you to experiment with different algorithms to learn first-hand what works well and how techniques compare."
   ]
  },
  {
   "cell_type": "markdown",
   "metadata": {
    "_uuid": "7ed04b1e7a00a7ad31ee98a7d8e55880e6274f29"
   },
   "source": [
    "**Import all Necessary Libraries**"
   ]
  },
  {
   "cell_type": "code",
   "execution_count": null,
   "metadata": {
    "_uuid": "0f935bddcc5ca02702578e712bf7f396ba7154ef"
   },
   "outputs": [],
   "source": [
    "import pandas as pd\n",
    "import numpy as np\n",
    "\n",
    "import matplotlib.pyplot as plt\n",
    "import seaborn as sns\n",
    "\n",
    "from sklearn.model_selection import train_test_split\n",
    "from sklearn.metrics import confusion_matrix\n",
    "\n",
    "import keras\n",
    "from keras.models import Sequential\n",
    "from keras.layers import Conv2D, Lambda, MaxPooling2D # convolution layers\n",
    "from keras.layers import Dense, Dropout, Flatten # core layers\n",
    "from keras.layers.normalization import BatchNormalization\n",
    "\n",
    "from keras.preprocessing.image import ImageDataGenerator\n",
    "\n",
    "from keras.utils.np_utils import to_categorical\n",
    "\n",
    "#from keras.datasets import mnist"
   ]
  },
  {
   "cell_type": "code",
   "execution_count": null,
   "metadata": {
    "execution": {
     "iopub.execute_input": "2022-03-20T12:01:58.252401Z",
     "iopub.status.busy": "2022-03-20T12:01:58.252078Z",
     "iopub.status.idle": "2022-03-20T12:01:58.258343Z",
     "shell.execute_reply": "2022-03-20T12:01:58.257387Z",
     "shell.execute_reply.started": "2022-03-20T12:01:58.252352Z"
    }
   },
   "outputs": [],
   "source": [
    "import os\n",
    "print(os.listdir('../input'))"
   ]
  },
  {
   "cell_type": "markdown",
   "metadata": {
    "_uuid": "f94870f1682c45b0e4ea378d287302656af3cf8e"
   },
   "source": [
    "# 2. Data preparation\n",
    "## 2.1 Load data"
   ]
  },
  {
   "cell_type": "code",
   "execution_count": null,
   "metadata": {
    "execution": {
     "iopub.execute_input": "2022-03-20T12:01:58.260886Z",
     "iopub.status.busy": "2022-03-20T12:01:58.260113Z",
     "iopub.status.idle": "2022-03-20T12:02:03.21197Z",
     "shell.execute_reply": "2022-03-20T12:02:03.211097Z",
     "shell.execute_reply.started": "2022-03-20T12:01:58.26075Z"
    }
   },
   "outputs": [],
   "source": [
    "train = pd.read_csv('../input/train.csv')\n",
    "test = pd.read_csv('../input/test.csv')\n",
    "sub = pd.read_csv('../input/sample_submission.csv')\n",
    "print(\"Data are Ready!!\")"
   ]
  },
  {
   "cell_type": "code",
   "execution_count": null,
   "metadata": {
    "execution": {
     "iopub.execute_input": "2022-03-20T12:02:03.213724Z",
     "iopub.status.busy": "2022-03-20T12:02:03.213423Z",
     "iopub.status.idle": "2022-03-20T12:02:03.221056Z",
     "shell.execute_reply": "2022-03-20T12:02:03.220123Z",
     "shell.execute_reply.started": "2022-03-20T12:02:03.213676Z"
    }
   },
   "outputs": [],
   "source": [
    "print(f\"Training data size is {train.shape}\\nTesting data size is {test.shape}\")"
   ]
  },
  {
   "cell_type": "markdown",
   "metadata": {},
   "source": [
    "**Set data features and labels**"
   ]
  },
  {
   "cell_type": "code",
   "execution_count": null,
   "metadata": {
    "execution": {
     "iopub.execute_input": "2022-03-20T12:02:03.22291Z",
     "iopub.status.busy": "2022-03-20T12:02:03.22244Z",
     "iopub.status.idle": "2022-03-20T12:02:03.391673Z",
     "shell.execute_reply": "2022-03-20T12:02:03.390744Z",
     "shell.execute_reply.started": "2022-03-20T12:02:03.222722Z"
    }
   },
   "outputs": [],
   "source": [
    "X = train.drop(['label'], 1).values\n",
    "y = train['label'].values"
   ]
  },
  {
   "cell_type": "markdown",
   "metadata": {},
   "source": [
    "## 2.2 Normalization"
   ]
  },
  {
   "cell_type": "markdown",
   "metadata": {},
   "source": [
    "We perform a grayscale normalization to reduce the effect of illumination's differences. \n",
    "\n",
    "Moreover the CNN converg faster on [0..1] data than on [0..255]."
   ]
  },
  {
   "cell_type": "code",
   "execution_count": null,
   "metadata": {
    "execution": {
     "iopub.execute_input": "2022-03-20T12:02:03.395698Z",
     "iopub.status.busy": "2022-03-20T12:02:03.395443Z",
     "iopub.status.idle": "2022-03-20T12:02:03.609507Z",
     "shell.execute_reply": "2022-03-20T12:02:03.608795Z",
     "shell.execute_reply.started": "2022-03-20T12:02:03.395653Z"
    }
   },
   "outputs": [],
   "source": [
    "X = X / 255.0"
   ]
  },
  {
   "cell_type": "markdown",
   "metadata": {},
   "source": [
    "## 2.3 Reshape"
   ]
  },
  {
   "cell_type": "code",
   "execution_count": null,
   "metadata": {
    "execution": {
     "iopub.execute_input": "2022-03-20T12:02:03.611948Z",
     "iopub.status.busy": "2022-03-20T12:02:03.6115Z",
     "iopub.status.idle": "2022-03-20T12:02:03.616267Z",
     "shell.execute_reply": "2022-03-20T12:02:03.615345Z",
     "shell.execute_reply.started": "2022-03-20T12:02:03.611754Z"
    }
   },
   "outputs": [],
   "source": [
    "# Reshape image in 3 dimensions (height = 28px, width = 28px , canal = 1)\n",
    "# canal = 1 => For gray scale\n",
    "X = X.reshape(-1,28,28,1)"
   ]
  },
  {
   "cell_type": "markdown",
   "metadata": {},
   "source": [
    "## 2.4 Label encoding"
   ]
  },
  {
   "cell_type": "markdown",
   "metadata": {},
   "source": [
    "**One-Hot Encoding**"
   ]
  },
  {
   "cell_type": "code",
   "execution_count": null,
   "metadata": {
    "execution": {
     "iopub.execute_input": "2022-03-20T12:02:03.618254Z",
     "iopub.status.busy": "2022-03-20T12:02:03.617705Z",
     "iopub.status.idle": "2022-03-20T12:02:03.627706Z",
     "shell.execute_reply": "2022-03-20T12:02:03.626809Z",
     "shell.execute_reply.started": "2022-03-20T12:02:03.618205Z"
    }
   },
   "outputs": [],
   "source": [
    "# Encode labels to one hot vectors (ex : 2 -> [0,0,1,0,0,0,0,0,0,0])\n",
    "y = to_categorical(y)\n",
    "\n",
    "print(f\"Label size {y.shape}\")"
   ]
  },
  {
   "cell_type": "markdown",
   "metadata": {},
   "source": [
    "Labels are 10 digits numbers from 0 to 9. We need to encode these lables to one hot vectors (ex : 2 -> [0,0,1,0,0,0,0,0,0,0])."
   ]
  },
  {
   "cell_type": "markdown",
   "metadata": {},
   "source": [
    "## 2.5 Split training and valdiation set"
   ]
  },
  {
   "cell_type": "code",
   "execution_count": null,
   "metadata": {
    "execution": {
     "iopub.execute_input": "2022-03-20T12:02:03.629616Z",
     "iopub.status.busy": "2022-03-20T12:02:03.62905Z",
     "iopub.status.idle": "2022-03-20T12:02:04.224229Z",
     "shell.execute_reply": "2022-03-20T12:02:04.223381Z",
     "shell.execute_reply.started": "2022-03-20T12:02:03.629379Z"
    }
   },
   "outputs": [],
   "source": [
    "# Split the train and the validation set for the fitting\n",
    "X_train, X_test, y_train, y_test = train_test_split(X, y, test_size=0.1, random_state=0)"
   ]
  },
  {
   "cell_type": "code",
   "execution_count": null,
   "metadata": {
    "execution": {
     "iopub.execute_input": "2022-03-20T12:02:04.225902Z",
     "iopub.status.busy": "2022-03-20T12:02:04.225619Z",
     "iopub.status.idle": "2022-03-20T12:02:04.23379Z",
     "shell.execute_reply": "2022-03-20T12:02:04.233025Z",
     "shell.execute_reply.started": "2022-03-20T12:02:04.225856Z"
    }
   },
   "outputs": [],
   "source": [
    "X_train.shape, X_test.shape, y_train.shape, y_test.shape"
   ]
  },
  {
   "cell_type": "markdown",
   "metadata": {},
   "source": [
    "I choosed to split the train set in two parts : a small fraction (10%) became the validation set which the model is evaluated and the rest (90%) is used to train the model."
   ]
  },
  {
   "cell_type": "markdown",
   "metadata": {
    "_uuid": "d9f73cd8890cc89d03837ef47210b27b94b156dc"
   },
   "source": [
    "**Data Visualization**"
   ]
  },
  {
   "cell_type": "code",
   "execution_count": null,
   "metadata": {
    "_uuid": "d00d9b96668d11a33c272b2b64cbb4397dcbba89",
    "execution": {
     "iopub.execute_input": "2022-03-20T12:02:04.235801Z",
     "iopub.status.busy": "2022-03-20T12:02:04.235245Z",
     "iopub.status.idle": "2022-03-20T12:02:04.993949Z",
     "shell.execute_reply": "2022-03-20T12:02:04.993109Z",
     "shell.execute_reply.started": "2022-03-20T12:02:04.235754Z"
    },
    "scrolled": true
   },
   "outputs": [],
   "source": [
    "X_train__ = X_train.reshape(X_train.shape[0], 28, 28)\n",
    "\n",
    "fig, axis = plt.subplots(1, 4, figsize=(20, 10))\n",
    "for i, ax in enumerate(axis.flat):\n",
    "    ax.imshow(X_train__[i], cmap='binary')\n",
    "    digit = y_train[i].argmax()\n",
    "    ax.set(title = f\"Real Number is {digit}\");"
   ]
  },
  {
   "cell_type": "markdown",
   "metadata": {
    "_uuid": "a4f73e65842423bae7cfce945cd4dc0e367c180a"
   },
   "source": [
    "**Normalization**"
   ]
  },
  {
   "cell_type": "code",
   "execution_count": null,
   "metadata": {
    "_uuid": "82bddf135bfad1d3f91b52cd0cadb62e55db964b",
    "execution": {
     "iopub.execute_input": "2022-03-20T12:02:04.995911Z",
     "iopub.status.busy": "2022-03-20T12:02:04.995391Z",
     "iopub.status.idle": "2022-03-20T12:02:05.245843Z",
     "shell.execute_reply": "2022-03-20T12:02:05.245088Z",
     "shell.execute_reply.started": "2022-03-20T12:02:04.995863Z"
    }
   },
   "outputs": [],
   "source": [
    "mean = np.mean(X_train)\n",
    "std = np.std(X_train)\n",
    "\n",
    "def standardize(x):\n",
    "    return (x-mean)/std"
   ]
  },
  {
   "cell_type": "markdown",
   "metadata": {},
   "source": [
    "# 3. CNN\n",
    "## 3.1 Define the model"
   ]
  },
  {
   "cell_type": "markdown",
   "metadata": {},
   "source": [
    "I used the Keras Sequential API, where you have just to add one layer at a time, starting from the input.\n",
    "\n",
    "The first is the convolutional (Conv2D) layer. It is like a set of learnable filters. I choosed to set 32 filters for the two firsts conv2D layers and 64 filters for the two second layers and 128 filters for two third layers and 256 for the last ones. Each filter transforms a part of the image (defined by the kernel size) using the kernel filter. The kernel filter matrix is applied on the whole image. Filters can be seen as a transformation of the image.\n",
    "\n",
    "The CNN can isolate features that are useful everywhere from these transformed images (feature maps).\n",
    "\n",
    "The second important layer in CNN is the pooling (MaxPool2D) layer. This layer simply acts as a downsampling filter. It looks at the 2 neighboring pixels and picks the maximal value. These are used to reduce computational cost, and to some extent also reduce overfitting. We have to choose the pooling size (i.e the area size pooled each time) more the pooling dimension is high, more the downsampling is important. \n",
    "\n",
    "Combining convolutional and pooling layers, CNN are able to combine local features and learn more global features of the image.\n",
    "\n",
    "'relu' is the rectifier (activation function max(0,x). The rectifier activation function is used to add non linearity to the network. \n",
    "\n",
    "The Flatten layer is use to convert the final feature maps into a one single 1D vector. This flattening step is needed so that you can make use of fully connected layers after some convolutional/maxpool layers. It combines all the found local features of the previous convolutional layers.\n",
    "\n",
    "In the end i used the features in two fully-connected (Dense) layers which is just artificial an neural networks (ANN) classifier. In the last layer(Dense(10,activation=\"softmax\")) the net outputs distribution of probability of each class."
   ]
  },
  {
   "cell_type": "markdown",
   "metadata": {
    "_uuid": "57904be2d2935cece025811c128ca6738cf86800"
   },
   "source": [
    "**Model Definition**"
   ]
  },
  {
   "cell_type": "code",
   "execution_count": null,
   "metadata": {
    "_uuid": "e935c979b0715a68bc8739e6a31f5d9a8189a750",
    "execution": {
     "iopub.execute_input": "2022-03-20T12:02:05.247687Z",
     "iopub.status.busy": "2022-03-20T12:02:05.247394Z",
     "iopub.status.idle": "2022-03-20T12:02:06.561983Z",
     "shell.execute_reply": "2022-03-20T12:02:06.561103Z",
     "shell.execute_reply.started": "2022-03-20T12:02:05.24764Z"
    }
   },
   "outputs": [],
   "source": [
    "model=Sequential()\n",
    "\n",
    "#model.add(Lambda(standardize,input_shape=(28,28,1)))    \n",
    "model.add(Conv2D(filters=64, kernel_size = (3,3), activation=\"relu\", input_shape=(28,28,1)))\n",
    "model.add(Conv2D(filters=64, kernel_size = (3,3), activation=\"relu\"))\n",
    "model.add(MaxPooling2D(pool_size=(2,2)))\n",
    "model.add(BatchNormalization())\n",
    "\n",
    "model.add(Conv2D(filters=128, kernel_size = (3,3), activation=\"relu\"))\n",
    "model.add(Conv2D(filters=128, kernel_size = (3,3), activation=\"relu\"))\n",
    "model.add(MaxPooling2D(pool_size=(2,2)))\n",
    "model.add(BatchNormalization())    \n",
    "\n",
    "model.add(Conv2D(filters=256, kernel_size = (3,3), activation=\"relu\"))\n",
    "model.add(MaxPooling2D(pool_size=(2,2)))\n",
    "model.add(BatchNormalization())\n",
    "    \n",
    "model.add(Flatten())\n",
    "model.add(Dense(512,activation=\"relu\"))\n",
    "    \n",
    "model.add(Dense(10,activation=\"softmax\"))\n",
    "    \n",
    "model.compile(loss=\"categorical_crossentropy\", optimizer=\"adam\", metrics=[\"accuracy\"])"
   ]
  },
  {
   "cell_type": "code",
   "execution_count": null,
   "metadata": {
    "execution": {
     "iopub.execute_input": "2022-03-20T12:02:06.571487Z",
     "iopub.status.busy": "2022-03-20T12:02:06.568155Z",
     "iopub.status.idle": "2022-03-20T12:02:06.581815Z",
     "shell.execute_reply": "2022-03-20T12:02:06.580951Z",
     "shell.execute_reply.started": "2022-03-20T12:02:06.571448Z"
    }
   },
   "outputs": [],
   "source": [
    "model.summary()"
   ]
  },
  {
   "cell_type": "markdown",
   "metadata": {},
   "source": [
    "## 3.2 Data augmentation"
   ]
  },
  {
   "cell_type": "markdown",
   "metadata": {},
   "source": [
    "In order to avoid overfitting problem, we need to expand artificially our handwritten digit dataset. We can make your existing dataset even larger. The idea is to alter the training data with small transformations to reproduce the variations occuring when someone is writing a digit.\n",
    "\n",
    "For example, the number is not centered \n",
    "The scale is not the same (some who write with big/small numbers)\n",
    "The image is rotated...\n",
    "\n",
    "Approaches that alter the training data in ways that change the array representation while keeping the label the same are known as data augmentation techniques. Some popular augmentations people use are grayscales, horizontal flips, vertical flips, random crops, color jitters, translations, rotations, and much more. \n",
    "\n",
    "By applying just a couple of these transformations to our training data, we can easily double or triple the number of training examples and create a very robust model.\n",
    "\n",
    "The improvement is important : \n",
    "   - Without data augmentation i obtained an accuracy of 98.114%\n",
    "   - With data augmentation i achieved 99.67% of accuracy"
   ]
  },
  {
   "cell_type": "code",
   "execution_count": null,
   "metadata": {
    "execution": {
     "iopub.execute_input": "2022-03-20T12:02:06.584591Z",
     "iopub.status.busy": "2022-03-20T12:02:06.584285Z",
     "iopub.status.idle": "2022-03-20T12:02:06.683645Z",
     "shell.execute_reply": "2022-03-20T12:02:06.682925Z",
     "shell.execute_reply.started": "2022-03-20T12:02:06.584544Z"
    }
   },
   "outputs": [],
   "source": [
    "# With data augmentation to prevent overfitting\n",
    "\n",
    "datagen = ImageDataGenerator(\n",
    "        featurewise_center=False,  # set input mean to 0 over the dataset\n",
    "        samplewise_center=False,  # set each sample mean to 0\n",
    "        featurewise_std_normalization=False,  # divide inputs by std of the dataset\n",
    "        samplewise_std_normalization=False,  # divide each input by its std\n",
    "        zca_whitening=False,  # apply ZCA whitening\n",
    "        rotation_range=15,  # randomly rotate images in the range (degrees, 0 to 180)\n",
    "        zoom_range = 0.01, # Randomly zoom image \n",
    "        width_shift_range=0.1,  # randomly shift images horizontally (fraction of total width)\n",
    "        height_shift_range=0.1,  # randomly shift images vertically (fraction of total height)\n",
    "        horizontal_flip=False,  # randomly flip images\n",
    "        vertical_flip=False)  # randomly flip images\n",
    "\n",
    "\n",
    "#datagen.fit(X_train)\n",
    "train_gen = datagen.flow(X_train, y_train, batch_size=128)\n",
    "test_gen = datagen.flow(X_test, y_test, batch_size=128)"
   ]
  },
  {
   "cell_type": "markdown",
   "metadata": {},
   "source": [
    "For the data augmentation, i choosed to :\n",
    "   - Randomly rotate some training images by 10 degrees\n",
    "   - Randomly  Zoom by 10% some training images\n",
    "   - Randomly shift images horizontally by 10% of the width\n",
    "   - Randomly shift images vertically by 10% of the height\n",
    "   \n",
    "**I did not apply a vertical_flip nor horizontal_flip since it could have lead to misclassify symetrical numbers such as 6 and 9.**\n",
    "\n",
    "Once our model is ready, we fit the training dataset ."
   ]
  },
  {
   "cell_type": "markdown",
   "metadata": {
    "_uuid": "5a9a1f37ef33b24887f97e7992b7d24567602eb8"
   },
   "source": [
    "## 3.3 Model training"
   ]
  },
  {
   "cell_type": "code",
   "execution_count": null,
   "metadata": {
    "execution": {
     "iopub.execute_input": "2022-03-20T12:02:06.685351Z",
     "iopub.status.busy": "2022-03-20T12:02:06.685063Z",
     "iopub.status.idle": "2022-03-20T12:02:06.689009Z",
     "shell.execute_reply": "2022-03-20T12:02:06.687941Z",
     "shell.execute_reply.started": "2022-03-20T12:02:06.685291Z"
    }
   },
   "outputs": [],
   "source": [
    "# This make accuarcy 0.998\n",
    "#model.fit(X, y, batch_size=batch_size, validation_split=0.2, epochs=10)"
   ]
  },
  {
   "cell_type": "markdown",
   "metadata": {},
   "source": [
    "### Drive training phase\n",
    "**EarlyStoping**: Stop training when a monitored metric has stopped improving.\n",
    "\n",
    "**ReduceLROnPlateau**: Reduce learning rate when a metric has stopped improving."
   ]
  },
  {
   "cell_type": "code",
   "execution_count": null,
   "metadata": {
    "execution": {
     "iopub.execute_input": "2022-03-20T12:02:06.690955Z",
     "iopub.status.busy": "2022-03-20T12:02:06.690411Z",
     "iopub.status.idle": "2022-03-20T12:02:06.699404Z",
     "shell.execute_reply": "2022-03-20T12:02:06.698544Z",
     "shell.execute_reply.started": "2022-03-20T12:02:06.690906Z"
    }
   },
   "outputs": [],
   "source": [
    "epochs = 100\n",
    "batch_size = 128\n",
    "train_steps = X_train.shape[0] // batch_size\n",
    "valid_steps = X_test.shape[0] // batch_size\n",
    "\n",
    "es = keras.callbacks.EarlyStopping(\n",
    "        monitor=\"val_acc\", # metrics to monitor\n",
    "        patience=10, # how many epochs before stop\n",
    "        verbose=1,\n",
    "        mode=\"max\", # we need the maximum accuracy.\n",
    "        restore_best_weights=True, # \n",
    "     )\n",
    "\n",
    "rp = keras.callbacks.ReduceLROnPlateau(\n",
    "        monitor=\"val_acc\",\n",
    "        factor=0.2,\n",
    "        patience=3,\n",
    "        verbose=1,\n",
    "        mode=\"max\",\n",
    "        min_lr=0.00001,\n",
    "     )"
   ]
  },
  {
   "cell_type": "code",
   "execution_count": null,
   "metadata": {
    "execution": {
     "iopub.execute_input": "2022-03-20T12:02:06.701587Z",
     "iopub.status.busy": "2022-03-20T12:02:06.700897Z",
     "iopub.status.idle": "2022-03-20T12:09:57.171678Z",
     "shell.execute_reply": "2022-03-20T12:09:57.171006Z",
     "shell.execute_reply.started": "2022-03-20T12:02:06.701217Z"
    }
   },
   "outputs": [],
   "source": [
    "# Fit the model\n",
    "history = model.fit_generator(train_gen, \n",
    "                              epochs = epochs, \n",
    "                              steps_per_epoch = train_steps,\n",
    "                              validation_data = test_gen,\n",
    "                              validation_steps = valid_steps, \n",
    "                              callbacks=[es, rp])"
   ]
  },
  {
   "cell_type": "markdown",
   "metadata": {},
   "source": [
    "**Plot CNN model**"
   ]
  },
  {
   "cell_type": "code",
   "execution_count": null,
   "metadata": {
    "execution": {
     "iopub.execute_input": "2022-03-20T12:09:57.174591Z",
     "iopub.status.busy": "2022-03-20T12:09:57.17428Z",
     "iopub.status.idle": "2022-03-20T12:09:57.364493Z",
     "shell.execute_reply": "2022-03-20T12:09:57.36346Z",
     "shell.execute_reply.started": "2022-03-20T12:09:57.174543Z"
    }
   },
   "outputs": [],
   "source": [
    "from keras.utils.vis_utils import plot_model\n",
    "plot_model(model, to_file='CNN_model_arch.png', show_shapes=True, show_layer_names=True)"
   ]
  },
  {
   "cell_type": "markdown",
   "metadata": {},
   "source": [
    "# 4. Evaluate the model\n",
    "## 4.1 Training and validation curves"
   ]
  },
  {
   "cell_type": "code",
   "execution_count": null,
   "metadata": {
    "execution": {
     "iopub.execute_input": "2022-03-20T12:09:57.368673Z",
     "iopub.status.busy": "2022-03-20T12:09:57.368404Z",
     "iopub.status.idle": "2022-03-20T12:09:57.925594Z",
     "shell.execute_reply": "2022-03-20T12:09:57.924717Z",
     "shell.execute_reply.started": "2022-03-20T12:09:57.368624Z"
    }
   },
   "outputs": [],
   "source": [
    "# Plot the loss and accuracy curves for training and validation \n",
    "fig, ax = plt.subplots(2,1, figsize=(18, 10))\n",
    "ax[0].plot(history.history['loss'], color='b', label=\"Training loss\")\n",
    "ax[0].plot(history.history['val_loss'], color='r', label=\"validation loss\",axes =ax[0])\n",
    "legend = ax[0].legend(loc='best', shadow=True)\n",
    "\n",
    "ax[1].plot(history.history['acc'], color='b', label=\"Training accuracy\")\n",
    "ax[1].plot(history.history['val_acc'], color='r',label=\"Validation accuracy\")\n",
    "legend = ax[1].legend(loc='best', shadow=True)"
   ]
  },
  {
   "cell_type": "markdown",
   "metadata": {},
   "source": [
    "## 4.2 Confusion matrix"
   ]
  },
  {
   "cell_type": "markdown",
   "metadata": {},
   "source": [
    "Confusion matrix can be very helpfull to see your model drawbacks.\n",
    "\n",
    "I plot the confusion matrix of the validation results."
   ]
  },
  {
   "cell_type": "code",
   "execution_count": null,
   "metadata": {
    "execution": {
     "iopub.execute_input": "2022-03-20T12:09:57.932605Z",
     "iopub.status.busy": "2022-03-20T12:09:57.930226Z",
     "iopub.status.idle": "2022-03-20T12:09:59.000711Z",
     "shell.execute_reply": "2022-03-20T12:09:58.99982Z",
     "shell.execute_reply.started": "2022-03-20T12:09:57.932544Z"
    }
   },
   "outputs": [],
   "source": [
    "fig = plt.figure(figsize=(10, 10)) # Set Figure\n",
    "\n",
    "y_pred = model.predict(X_test) # Predict class probabilities as 2 => [0.1, 0, 0.9, 0, 0, 0, 0, 0, 0, 0]\n",
    "\n",
    "Y_pred = np.argmax(y_pred, 1) # Decode Predicted labels\n",
    "Y_test = np.argmax(y_test, 1) # Decode labels\n",
    "\n",
    "mat = confusion_matrix(Y_test, Y_pred) # Confusion matrix\n",
    "\n",
    "# Plot Confusion matrix\n",
    "sns.heatmap(mat.T, square=True, annot=True, cbar=False, cmap=plt.cm.Blues, fmt='.0f')\n",
    "plt.xlabel('Predicted Values')\n",
    "plt.ylabel('True Values');\n",
    "plt.show();"
   ]
  },
  {
   "cell_type": "markdown",
   "metadata": {},
   "source": [
    "# 5. Prediction and submition"
   ]
  },
  {
   "cell_type": "markdown",
   "metadata": {},
   "source": [
    "## 5.1 Prediction validation results"
   ]
  },
  {
   "cell_type": "code",
   "execution_count": null,
   "metadata": {
    "execution": {
     "iopub.execute_input": "2022-03-20T12:09:59.006972Z",
     "iopub.status.busy": "2022-03-20T12:09:59.004836Z",
     "iopub.status.idle": "2022-03-20T12:10:02.009591Z",
     "shell.execute_reply": "2022-03-20T12:10:02.008807Z",
     "shell.execute_reply.started": "2022-03-20T12:09:59.006922Z"
    }
   },
   "outputs": [],
   "source": [
    "y_pred = model.predict(X_test)\n",
    "X_test__ = X_test.reshape(X_test.shape[0], 28, 28)\n",
    "\n",
    "fig, axis = plt.subplots(4, 4, figsize=(12, 14))\n",
    "for i, ax in enumerate(axis.flat):\n",
    "    ax.imshow(X_test__[i], cmap='binary')\n",
    "    ax.set(title = f\"Real Number is {y_test[i].argmax()}\\nPredict Number is {y_pred[i].argmax()}\");"
   ]
  },
  {
   "cell_type": "markdown",
   "metadata": {},
   "source": [
    "## 5.2 Submition"
   ]
  },
  {
   "cell_type": "markdown",
   "metadata": {
    "_uuid": "9949d758f73153835902ba3c87907fee7cfedaa1"
   },
   "source": [
    "**Prediciting test classes**"
   ]
  },
  {
   "cell_type": "code",
   "execution_count": null,
   "metadata": {
    "_uuid": "afcacfa4a023a9e01a61b5d7dcd051f0a439fa38",
    "execution": {
     "iopub.execute_input": "2022-03-20T12:10:02.011304Z",
     "iopub.status.busy": "2022-03-20T12:10:02.010864Z",
     "iopub.status.idle": "2022-03-20T12:10:03.687696Z",
     "shell.execute_reply": "2022-03-20T12:10:03.68701Z",
     "shell.execute_reply.started": "2022-03-20T12:10:02.011255Z"
    }
   },
   "outputs": [],
   "source": [
    "# preprocess test data\n",
    "test_x = test.values\n",
    "test_x = test_x / 255.0\n",
    "test_x = test_x.reshape(-1,28,28,1)\n",
    "\n",
    "# predict test data\n",
    "pred = model.predict_classes(test_x, verbose=1)"
   ]
  },
  {
   "cell_type": "code",
   "execution_count": null,
   "metadata": {
    "execution": {
     "iopub.execute_input": "2022-03-20T12:10:03.689342Z",
     "iopub.status.busy": "2022-03-20T12:10:03.689023Z",
     "iopub.status.idle": "2022-03-20T12:10:03.886717Z",
     "shell.execute_reply": "2022-03-20T12:10:03.88576Z",
     "shell.execute_reply.started": "2022-03-20T12:10:03.689279Z"
    }
   },
   "outputs": [],
   "source": [
    "# submissions\n",
    "sub['Label'] = pred\n",
    "sub.to_csv(\"CNN_keras_sub.csv\", index=False)\n",
    "sub.head()"
   ]
  },
  {
   "cell_type": "markdown",
   "metadata": {},
   "source": [
    "# 6. References\n",
    "\n",
    "1. https://keras.io/models/sequential/\n",
    "2. https://keras.io/layers/core/\n",
    "3. https://keras.io/layers/convolutional/\n",
    "4. https://keras.io/layers/pooling/\n",
    "5. https://www.kaggle.com/yassineghouzam/introduction-to-cnn-keras-0-997-top-6\n",
    "6. https://keras.io/api/callbacks/early_stopping/\n",
    "7. https://keras.io/api/callbacks/reduce_lr_on_plateau/"
   ]
  },
  {
   "cell_type": "markdown",
   "metadata": {},
   "source": [
    "# 7. Sklearn Soluation"
   ]
  },
  {
   "cell_type": "markdown",
   "metadata": {},
   "source": [
    "You can find out anthor soluation using simple model sklearn \"Random Forest Classifier\" with more than 94.5% accuracy here on this link **<a href='https://www.kaggle.com/elcaiseri/mnist-simple-sklearn-model-95-accuracy'>MNIST: Simple Sklearn Model</a>**"
   ]
  },
  {
   "cell_type": "markdown",
   "metadata": {},
   "source": [
    "### Finally,  **<span style='color:red;'>UPVOTE</span>**  this kernel if you found it useful, feel free in comments."
   ]
  },
  {
   "cell_type": "code",
   "execution_count": null,
   "metadata": {},
   "outputs": [],
   "source": []
  }
 ],
 "metadata": {
  "kernelspec": {
   "display_name": "Python 3",
   "language": "python",
   "name": "python3"
  },
  "language_info": {
   "codemirror_mode": {
    "name": "ipython",
    "version": 3
   },
   "file_extension": ".py",
   "mimetype": "text/x-python",
   "name": "python",
   "nbconvert_exporter": "python",
   "pygments_lexer": "ipython3",
   "version": "3.6.4"
  }
 },
 "nbformat": 4,
 "nbformat_minor": 4
}
