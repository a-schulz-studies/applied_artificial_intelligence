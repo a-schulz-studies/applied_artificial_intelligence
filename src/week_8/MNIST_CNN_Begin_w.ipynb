{
 "cells": [
  {
   "cell_type": "code",
   "execution_count": 5,
   "id": "918dbcd3",
   "metadata": {
    "ExecuteTime": {
     "start_time": "2023-05-17T19:15:23.845066Z",
     "end_time": "2023-05-17T19:22:09.079800Z"
    }
   },
   "outputs": [
    {
     "name": "stdout",
     "output_type": "stream",
     "text": [
      "Downloading data from https://storage.googleapis.com/tensorflow/tf-keras-datasets/mnist.npz\n",
      "11490434/11490434 [==============================] - 1s 0us/step\n",
      "Shape before one-hot encoding:  (60000,)\n",
      "Shape after one-hot encoding:  (60000, 10)\n",
      "Epoch 1/10\n",
      "469/469 [==============================] - 48s 97ms/step - loss: 0.1843 - accuracy: 0.9456 - val_loss: 0.0697 - val_accuracy: 0.9782\n",
      "Epoch 2/10\n",
      "469/469 [==============================] - 37s 79ms/step - loss: 0.0561 - accuracy: 0.9828 - val_loss: 0.0532 - val_accuracy: 0.9830\n",
      "Epoch 3/10\n",
      "469/469 [==============================] - 36s 78ms/step - loss: 0.0330 - accuracy: 0.9898 - val_loss: 0.0450 - val_accuracy: 0.9850\n",
      "Epoch 4/10\n",
      "469/469 [==============================] - 34s 74ms/step - loss: 0.0219 - accuracy: 0.9935 - val_loss: 0.0531 - val_accuracy: 0.9826\n",
      "Epoch 5/10\n",
      "469/469 [==============================] - 39s 82ms/step - loss: 0.0138 - accuracy: 0.9959 - val_loss: 0.0533 - val_accuracy: 0.9844\n",
      "Epoch 6/10\n",
      "469/469 [==============================] - 38s 81ms/step - loss: 0.0084 - accuracy: 0.9977 - val_loss: 0.0518 - val_accuracy: 0.9838\n",
      "Epoch 7/10\n",
      "469/469 [==============================] - 37s 78ms/step - loss: 0.0076 - accuracy: 0.9977 - val_loss: 0.0626 - val_accuracy: 0.9828\n",
      "Epoch 8/10\n",
      "469/469 [==============================] - 37s 79ms/step - loss: 0.0055 - accuracy: 0.9985 - val_loss: 0.0595 - val_accuracy: 0.9838\n",
      "Epoch 9/10\n",
      "469/469 [==============================] - 37s 80ms/step - loss: 0.0042 - accuracy: 0.9987 - val_loss: 0.0659 - val_accuracy: 0.9826\n",
      "Epoch 10/10\n",
      "469/469 [==============================] - 37s 78ms/step - loss: 0.0036 - accuracy: 0.9989 - val_loss: 0.0643 - val_accuracy: 0.9831\n"
     ]
    },
    {
     "data": {
      "text/plain": "<keras.callbacks.History at 0x1702847b880>"
     },
     "execution_count": 5,
     "metadata": {},
     "output_type": "execute_result"
    }
   ],
   "source": [
    "# keras imports for the dataset and building our neural network\n",
    "from keras.datasets import mnist\n",
    "from keras.models import Sequential\n",
    "from keras.layers import Dense, Dropout, Conv2D, MaxPool2D, Flatten\n",
    "from keras.utils import np_utils\n",
    "\n",
    "# to calculate accuracy\n",
    "from sklearn.metrics import accuracy_score\n",
    "\n",
    "# loading the dataset\n",
    "(X_train, y_train), (X_test, y_test) = mnist.load_data()\n",
    "\n",
    "# building the input vector from the 28x28 pixels\n",
    "X_train = X_train.reshape(X_train.shape[0], 28, 28, 1)\n",
    "X_test = X_test.reshape(X_test.shape[0], 28, 28, 1)\n",
    "X_train = X_train.astype('float32')\n",
    "X_test = X_test.astype('float32')\n",
    "\n",
    "# normalizing the data to help with the training\n",
    "X_train /= 255\n",
    "X_test /= 255\n",
    "\n",
    "# one-hot encoding using keras' numpy-related utilities\n",
    "n_classes = 10\n",
    "print(\"Shape before one-hot encoding: \", y_train.shape)\n",
    "Y_train = np_utils.to_categorical(y_train, n_classes)\n",
    "Y_test = np_utils.to_categorical(y_test, n_classes)\n",
    "print(\"Shape after one-hot encoding: \", Y_train.shape)\n",
    "\n",
    "# building a linear stack of layers with the sequential model\n",
    "model = Sequential()\n",
    "# convolutional layer\n",
    "model.add(Conv2D(25, kernel_size=(3,3), strides=(1,1), padding='valid', activation='relu', input_shape=(28,28,1)))\n",
    "model.add(MaxPool2D(pool_size=(1,1)))\n",
    "# flatten output of conv\n",
    "model.add(Flatten())\n",
    "# hidden layer\n",
    "model.add(Dense(100, activation='relu'))\n",
    "# output layer\n",
    "model.add(Dense(10, activation='softmax'))\n",
    "\n",
    "# compiling the sequential model\n",
    "model.compile(loss='categorical_crossentropy', metrics=['accuracy'], optimizer='adam')\n",
    "\n",
    "# training the model for 10 epochs\n",
    "model.fit(X_train, Y_train, batch_size=128, epochs=10, validation_data=(X_test, Y_test))"
   ]
  },
  {
   "cell_type": "code",
   "execution_count": 6,
   "id": "03fd7f9b",
   "metadata": {
    "ExecuteTime": {
     "start_time": "2023-05-17T19:22:09.095446Z",
     "end_time": "2023-05-17T19:22:12.397038Z"
    }
   },
   "outputs": [
    {
     "name": "stdout",
     "output_type": "stream",
     "text": [
      "Test Loss: 0.06427820026874542\n",
      "Test Accuracy: 0.9830999970436096\n"
     ]
    }
   ],
   "source": [
    "score = model.evaluate(X_test, Y_test, verbose=0)\n",
    "print('Test Loss:', score[0])\n",
    "print('Test Accuracy:', score[1])"
   ]
  },
  {
   "cell_type": "code",
   "execution_count": 6,
   "id": "827964d8",
   "metadata": {
    "ExecuteTime": {
     "start_time": "2023-05-17T19:22:12.350286Z",
     "end_time": "2023-05-17T19:22:12.399694Z"
    }
   },
   "outputs": [],
   "source": []
  }
 ],
 "metadata": {
  "kernelspec": {
   "display_name": "Python 3 (ipykernel)",
   "language": "python",
   "name": "python3"
  },
  "language_info": {
   "codemirror_mode": {
    "name": "ipython",
    "version": 3
   },
   "file_extension": ".py",
   "mimetype": "text/x-python",
   "name": "python",
   "nbconvert_exporter": "python",
   "pygments_lexer": "ipython3",
   "version": "3.9.7"
  }
 },
 "nbformat": 4,
 "nbformat_minor": 5
}
