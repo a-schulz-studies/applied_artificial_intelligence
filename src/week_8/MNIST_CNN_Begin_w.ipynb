{
 "cells": [
  {
   "cell_type": "code",
   "execution_count": 1,
   "id": "918dbcd3",
   "metadata": {},
   "outputs": [
    {
     "name": "stdout",
     "output_type": "stream",
     "text": [
      "Shape before one-hot encoding:  (60000,)\n",
      "Shape after one-hot encoding:  (60000, 10)\n",
      "Epoch 1/10\n",
      "469/469 [==============================] - 23s 48ms/step - loss: 0.2143 - accuracy: 0.9383 - val_loss: 0.0834 - val_accuracy: 0.9752\n",
      "Epoch 2/10\n",
      "469/469 [==============================] - 23s 49ms/step - loss: 0.0668 - accuracy: 0.9801 - val_loss: 0.0589 - val_accuracy: 0.9805\n",
      "Epoch 3/10\n",
      "469/469 [==============================] - 22s 48ms/step - loss: 0.0373 - accuracy: 0.9889 - val_loss: 0.0537 - val_accuracy: 0.9832\n",
      "Epoch 4/10\n",
      "469/469 [==============================] - 23s 49ms/step - loss: 0.0245 - accuracy: 0.9923 - val_loss: 0.0511 - val_accuracy: 0.9837\n",
      "Epoch 5/10\n",
      "469/469 [==============================] - 23s 48ms/step - loss: 0.0156 - accuracy: 0.9952 - val_loss: 0.0546 - val_accuracy: 0.9831\n",
      "Epoch 6/10\n",
      "469/469 [==============================] - 22s 48ms/step - loss: 0.0115 - accuracy: 0.9968 - val_loss: 0.0579 - val_accuracy: 0.9823\n",
      "Epoch 7/10\n",
      "469/469 [==============================] - 22s 48ms/step - loss: 0.0083 - accuracy: 0.9974 - val_loss: 0.0571 - val_accuracy: 0.9833\n",
      "Epoch 8/10\n",
      "469/469 [==============================] - 23s 48ms/step - loss: 0.0064 - accuracy: 0.9981 - val_loss: 0.0582 - val_accuracy: 0.9844\n",
      "Epoch 9/10\n",
      "469/469 [==============================] - 22s 48ms/step - loss: 0.0052 - accuracy: 0.9987 - val_loss: 0.0632 - val_accuracy: 0.9829\n",
      "Epoch 10/10\n",
      "469/469 [==============================] - 23s 48ms/step - loss: 0.0038 - accuracy: 0.9987 - val_loss: 0.0617 - val_accuracy: 0.9848\n"
     ]
    },
    {
     "data": {
      "text/plain": [
       "<keras.callbacks.History at 0x278a8d128b0>"
      ]
     },
     "execution_count": 1,
     "metadata": {},
     "output_type": "execute_result"
    }
   ],
   "source": [
    "# keras imports for the dataset and building our neural network\n",
    "from keras.datasets import mnist\n",
    "from keras.models import Sequential\n",
    "from keras.layers import Dense, Dropout, Conv2D, MaxPool2D, Flatten\n",
    "from keras.utils import np_utils\n",
    "\n",
    "# to calculate accuracy\n",
    "from sklearn.metrics import accuracy_score\n",
    "\n",
    "# loading the dataset\n",
    "(X_train, y_train), (X_test, y_test) = mnist.load_data()\n",
    "\n",
    "# building the input vector from the 28x28 pixels\n",
    "X_train = X_train.reshape(X_train.shape[0], 28, 28, 1)\n",
    "X_test = X_test.reshape(X_test.shape[0], 28, 28, 1)\n",
    "X_train = X_train.astype('float32')\n",
    "X_test = X_test.astype('float32')\n",
    "\n",
    "# normalizing the data to help with the training\n",
    "X_train /= 255\n",
    "X_test /= 255\n",
    "\n",
    "# one-hot encoding using keras' numpy-related utilities\n",
    "n_classes = 10\n",
    "print(\"Shape before one-hot encoding: \", y_train.shape)\n",
    "Y_train = np_utils.to_categorical(y_train, n_classes)\n",
    "Y_test = np_utils.to_categorical(y_test, n_classes)\n",
    "print(\"Shape after one-hot encoding: \", Y_train.shape)\n",
    "\n",
    "# building a linear stack of layers with the sequential model\n",
    "model = Sequential()\n",
    "# convolutional layer\n",
    "model.add(Conv2D(25, kernel_size=(3,3), strides=(1,1), padding='valid', activation='relu', input_shape=(28,28,1)))\n",
    "model.add(MaxPool2D(pool_size=(1,1)))\n",
    "# flatten output of conv\n",
    "model.add(Flatten())\n",
    "# hidden layer\n",
    "model.add(Dense(100, activation='relu'))\n",
    "# output layer\n",
    "model.add(Dense(10, activation='softmax'))\n",
    "\n",
    "# compiling the sequential model\n",
    "model.compile(loss='categorical_crossentropy', metrics=['accuracy'], optimizer='adam')\n",
    "\n",
    "# training the model for 10 epochs\n",
    "model.fit(X_train, Y_train, batch_size=128, epochs=10, validation_data=(X_test, Y_test))"
   ]
  },
  {
   "cell_type": "code",
   "execution_count": 3,
   "id": "03fd7f9b",
   "metadata": {},
   "outputs": [
    {
     "name": "stdout",
     "output_type": "stream",
     "text": [
      "Test Loss: 0.061744194477796555\n",
      "Test Accuracy: 0.9847999811172485\n"
     ]
    }
   ],
   "source": [
    "score = model.evaluate(X_test, Y_test, verbose=0)\n",
    "print('Test Loss:', score[0])\n",
    "print('Test Accuracy:', score[1])"
   ]
  },
  {
   "cell_type": "code",
   "execution_count": null,
   "id": "827964d8",
   "metadata": {},
   "outputs": [],
   "source": []
  }
 ],
 "metadata": {
  "kernelspec": {
   "display_name": "Python 3 (ipykernel)",
   "language": "python",
   "name": "python3"
  },
  "language_info": {
   "codemirror_mode": {
    "name": "ipython",
    "version": 3
   },
   "file_extension": ".py",
   "mimetype": "text/x-python",
   "name": "python",
   "nbconvert_exporter": "python",
   "pygments_lexer": "ipython3",
   "version": "3.9.7"
  }
 },
 "nbformat": 4,
 "nbformat_minor": 5
}
