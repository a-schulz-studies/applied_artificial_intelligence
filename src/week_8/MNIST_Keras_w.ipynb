{
 "cells": [
  {
   "cell_type": "code",
   "execution_count": null,
   "id": "5db608f8",
   "metadata": {},
   "outputs": [],
   "source": [
    "import sys\n",
    "!{sys.executable} -m pip install tensorflow --user"
   ]
  },
  {
   "cell_type": "code",
   "execution_count": 1,
   "id": "f9a53474",
   "metadata": {},
   "outputs": [],
   "source": [
    "import keras \n",
    "from keras.datasets import mnist \n",
    "from keras.models import Sequential\n",
    "from keras.layers import Dense, Dropout, Flatten, Activation\n",
    "from keras.layers import Conv2D, MaxPooling2D\n",
    "from keras import backend as K"
   ]
  },
  {
   "cell_type": "code",
   "execution_count": 2,
   "id": "73fe421b",
   "metadata": {},
   "outputs": [
    {
     "name": "stdout",
     "output_type": "stream",
     "text": [
      "X_train shape: (60000, 28, 28, 1)\n",
      "60000 training samples\n",
      "10000 testing samples\n",
      "Epoch 1/12\n",
      "469/469 [==============================] - 139s 296ms/step - loss: 2.2809 - accuracy: 0.1838 - val_loss: 2.2527 - val_accuracy: 0.4187\n",
      "Epoch 2/12\n",
      "469/469 [==============================] - 142s 303ms/step - loss: 2.2270 - accuracy: 0.3213 - val_loss: 2.1770 - val_accuracy: 0.5776\n",
      "Epoch 3/12\n",
      "469/469 [==============================] - 146s 311ms/step - loss: 2.1268 - accuracy: 0.4354 - val_loss: 2.0216 - val_accuracy: 0.6678\n",
      "Epoch 4/12\n",
      "469/469 [==============================] - 142s 303ms/step - loss: 1.9104 - accuracy: 0.5233 - val_loss: 1.6655 - val_accuracy: 0.7385\n",
      "Epoch 5/12\n",
      "469/469 [==============================] - 137s 291ms/step - loss: 1.5210 - accuracy: 0.5991 - val_loss: 1.1457 - val_accuracy: 0.7859\n",
      "Epoch 6/12\n",
      "469/469 [==============================] - 141s 301ms/step - loss: 1.1654 - accuracy: 0.6580 - val_loss: 0.8200 - val_accuracy: 0.8164\n",
      "Epoch 7/12\n",
      "469/469 [==============================] - 151s 322ms/step - loss: 0.9738 - accuracy: 0.6990 - val_loss: 0.6672 - val_accuracy: 0.8376\n",
      "Epoch 8/12\n",
      "469/469 [==============================] - 153s 326ms/step - loss: 0.8628 - accuracy: 0.7326 - val_loss: 0.5825 - val_accuracy: 0.8520\n",
      "Epoch 9/12\n",
      "469/469 [==============================] - 158s 338ms/step - loss: 0.7951 - accuracy: 0.7524 - val_loss: 0.5290 - val_accuracy: 0.8619\n",
      "Epoch 10/12\n",
      "469/469 [==============================] - 159s 339ms/step - loss: 0.7364 - accuracy: 0.7675 - val_loss: 0.4885 - val_accuracy: 0.8700\n",
      "Epoch 11/12\n",
      "469/469 [==============================] - 162s 345ms/step - loss: 0.6972 - accuracy: 0.7814 - val_loss: 0.4595 - val_accuracy: 0.8773\n",
      "Epoch 12/12\n",
      "469/469 [==============================] - 150s 321ms/step - loss: 0.6637 - accuracy: 0.7920 - val_loss: 0.4348 - val_accuracy: 0.8834\n",
      "Test Loss: 0.4348091781139374\n",
      "Test Accuracy: 0.883400022983551\n"
     ]
    },
    {
     "data": {
      "image/png": "[encoded data removed]",
      "text/plain": [
       "<Figure size 432x288 with 2 Axes>"
      ]
     },
     "metadata": {
      "needs_background": "light"
     },
     "output_type": "display_data"
    }
   ],
   "source": [
    "(X_train, y_train), (X_test, y_test) = mnist.load_data()\n",
    "# import matplotlib for visualization\n",
    "import matplotlib.pyplot as plt\n",
    "\n",
    "# plot 2 images as gray scale\n",
    "plt.subplot(221)\n",
    "plt.imshow(X_train[0], cmap=plt.get_cmap('gray'))\n",
    "plt.subplot(222)\n",
    "plt.imshow(X_train[1], cmap=plt.get_cmap('gray'))\n",
    "batch_size = 128\n",
    "num_classes = 10\n",
    "epochs = 12\n",
    "\n",
    "\n",
    "# input image dimensions\n",
    "img_rows, img_cols = 28, 28\n",
    "\n",
    "if K.image_data_format() == 'channels_first': \n",
    "    X_train = X_train.reshape(X_train.shape[0], 1, img_rows, img_cols) \n",
    "    X_test = X_test.reshape(X_test.shape[0], 1, img_rows, img_cols)\n",
    "    input_shape = (1, img_rows, img_cols)\n",
    "else: \n",
    "    X_train = X_train.reshape(X_train.shape[0], img_rows, img_cols, 1) \n",
    "    X_test = X_test.reshape(X_test.shape[0], img_rows, img_cols, 1)\n",
    "    input_shape = (img_rows, img_cols, 1)\n",
    "\n",
    "X_train = X_train.astype('float32')\n",
    "X_test = X_test.astype('float32')\n",
    "X_train /= 255\n",
    "X_test /= 255\n",
    "print('X_train shape:', X_train.shape)\n",
    "print(X_train.shape[0], 'training samples')\n",
    "print(X_test.shape[0], 'testing samples')\n",
    "y_train = keras.utils.to_categorical(y_train, num_classes)\n",
    "y_test = keras.utils.to_categorical(y_test, num_classes)\n",
    "\n",
    "\n",
    "# import TensorFlow backend\n",
    "import tensorflow as tf\n",
    "\n",
    "# define our model\n",
    "model = Sequential()\n",
    "model = Sequential()\n",
    "model.add(Conv2D(32, kernel_size=(3, 3), activation='relu',input_shape=input_shape))\n",
    "model.add(Conv2D(64, (3, 3), activation='relu'))\n",
    "model.add(Conv2D(128, (3, 3), activation='relu'))\n",
    "model.add(MaxPooling2D(pool_size=(2, 2)))\n",
    "model.add(Dropout(0.25))\n",
    "model.add(Flatten())\n",
    "model.add(Dense(128, activation='relu'))\n",
    "model.add(Dropout(0.5))\n",
    "model.add(Dense(num_classes, activation=Activation(tf.nn.softmax)))\n",
    "\n",
    "\n",
    "model.compile(loss=keras.losses.categorical_crossentropy, optimizer=keras.optimizers.Adadelta(), metrics=['accuracy'])\n",
    "\n",
    "\n",
    "model.fit(X_train, y_train, batch_size=batch_size, epochs=epochs, verbose=1, validation_data=(X_test, y_test))\n",
    "\n",
    "\n",
    "score = model.evaluate(X_test, y_test, verbose=0)\n",
    "print('Test Loss:', score[0])\n",
    "print('Test Accuracy:', score[1])"
   ]
  },
  {
   "cell_type": "code",
   "execution_count": null,
   "id": "b4b65d60",
   "metadata": {},
   "outputs": [],
   "source": []
  }
 ],
 "metadata": {
  "kernelspec": {
   "display_name": "Python 3 (ipykernel)",
   "language": "python",
   "name": "python3"
  },
  "language_info": {
   "codemirror_mode": {
    "name": "ipython",
    "version": 3
   },
   "file_extension": ".py",
   "mimetype": "text/x-python",
   "name": "python",
   "nbconvert_exporter": "python",
   "pygments_lexer": "ipython3",
   "version": "3.9.7"
  }
 },
 "nbformat": 4,
 "nbformat_minor": 5
}
