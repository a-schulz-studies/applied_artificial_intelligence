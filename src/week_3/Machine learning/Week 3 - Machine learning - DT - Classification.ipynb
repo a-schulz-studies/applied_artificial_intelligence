{
 "cells": [
  {
   "cell_type": "code",
   "execution_count": 22,
   "id": "4ced17e6",
   "metadata": {},
   "outputs": [],
   "source": [
    "import pandas as pd\n",
    "import numpy as np\n",
    "import matplotlib.pyplot as plt\n",
    "from sklearn.neural_network import MLPRegressor\n",
    "from sklearn.neural_network import MLPClassifier\n",
    "from sklearn.metrics import confusion_matrix\n",
    "from sklearn.metrics import accuracy_score\n",
    "from sklearn.metrics import balanced_accuracy_score\n",
    "from sklearn import tree"
   ]
  },
  {
   "cell_type": "code",
   "execution_count": 23,
   "id": "59fea8df",
   "metadata": {},
   "outputs": [
    {
     "name": "stdout",
     "output_type": "stream",
     "text": [
      "['fixed acidity', 'volatile acidity', 'citric acid', 'residual sugar', 'chlorides', 'free sulfur dioxide', 'total sulfur dioxide', 'density', 'pH', 'sulphates', 'alcohol', 'quality']\n"
     ]
    }
   ],
   "source": [
    "csvFile = pd.read_csv('../Datasets/winequality-red.csv')\n",
    "colNames = list(csvFile.columns)\n",
    "\n",
    "print(colNames)\n",
    "\n",
    "colNamesX = colNames.copy()\n",
    "colNamesX.remove('quality')\n",
    "dfX = csvFile[colNamesX]\n",
    "X = dfX.values\n",
    "Y = csvFile['quality'].values"
   ]
  },
  {
   "cell_type": "code",
   "execution_count": 24,
   "id": "5dff468a",
   "metadata": {},
   "outputs": [
    {
     "name": "stdout",
     "output_type": "stream",
     "text": [
      "[1430 1467  529 ... 1523  487  937]\n",
      "1279\n"
     ]
    }
   ],
   "source": [
    "# Randomize the data because it could be sorted.\n",
    "numsMe = np.random.permutation(csvFile.shape[0])\n",
    "_thresh = int(np.floor(csvFile.shape[0] * .8))\n",
    "\n",
    "print(numsMe)\n",
    "print(_thresh)\n",
    "\n",
    "trainInds = numsMe[:_thresh]\n",
    "testInds = numsMe[_thresh:]\n",
    "\n",
    "TrainX, TestX = X[trainInds], X[testInds]\n",
    "TrainY, TestY = Y[trainInds], Y[testInds]"
   ]
  },
  {
   "cell_type": "code",
   "execution_count": 25,
   "id": "1758f523",
   "metadata": {},
   "outputs": [],
   "source": [
    "# clf = MLPClassifier(solver='adam', alpha=1e-5, hidden_layer_sizes=(12, ), random_state=1)\n",
    "# clf.fit(TrainX, TrainY)\n",
    "\n",
    "clf = tree.DecisionTreeClassifier()\n",
    "clf = clf.fit(TrainX, TrainY)\n"
   ]
  },
  {
   "cell_type": "code",
   "execution_count": 26,
   "id": "d27edee0",
   "metadata": {},
   "outputs": [
    {
     "name": "stdout",
     "output_type": "stream",
     "text": [
      "[[ 0  3  2  0  0  0]\n",
      " [ 0  0 12  2  1  0]\n",
      " [ 1  7 94 25  3  0]\n",
      " [ 0  5 35 79 13  1]\n",
      " [ 0  1  3  6 18  4]\n",
      " [ 0  0  1  0  3  1]]\n",
      "0.6\n",
      "0.34659364758048966\n"
     ]
    }
   ],
   "source": [
    "preds = clf.predict(TestX)\n",
    "\n",
    "# predicted class horizontal, actual class vertical\n",
    "cm = confusion_matrix(TestY, preds)\n",
    "print(cm)\n",
    "\n",
    "# giving the predictions of our model and comparing to our test\n",
    "acc = accuracy_score(TestY, preds)\n",
    "print(acc)\n",
    "\n",
    "# different classes have different quantity of data for training (some are better), so we balance the accuracy between the classes and get a better rating for the whole model\n",
    "accb = balanced_accuracy_score(TestY, preds)\n",
    "print(accb)"
   ]
  },
  {
   "cell_type": "code",
   "execution_count": 27,
   "id": "602eb79e",
   "metadata": {},
   "outputs": [
    {
     "name": "stdout",
     "output_type": "stream",
     "text": [
      "Accuracy=0.6\n"
     ]
    }
   ],
   "source": [
    "correct_preds = 0\n",
    "# print(len(preds), len(TestY))\n",
    "for index, i in enumerate(preds):\n",
    "    if i == TestY[index]:\n",
    "        correct_preds = correct_preds + 1\n",
    "# print(\"Number Testdata\" + str(len(TestY)))\n",
    "accuracy = correct_preds / len(TestY)\n",
    "print(\"Accuracy=\" + str(accuracy))"
   ]
  },
  {
   "cell_type": "code",
   "execution_count": 28,
   "outputs": [],
   "source": [
    "# Number of true positive\n"
   ],
   "metadata": {
    "collapsed": false
   }
  }
 ],
 "metadata": {
  "kernelspec": {
   "display_name": "Python 3 (ipykernel)",
   "language": "python",
   "name": "python3"
  },
  "language_info": {
   "codemirror_mode": {
    "name": "ipython",
    "version": 3
   },
   "file_extension": ".py",
   "mimetype": "text/x-python",
   "name": "python",
   "nbconvert_exporter": "python",
   "pygments_lexer": "ipython3",
   "version": "3.9.7"
  }
 },
 "nbformat": 4,
 "nbformat_minor": 5
}
