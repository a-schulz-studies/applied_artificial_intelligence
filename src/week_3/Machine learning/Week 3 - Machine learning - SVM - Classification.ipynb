{
 "cells": [
  {
   "cell_type": "code",
   "execution_count": 49,
   "id": "4ced17e6",
   "metadata": {},
   "outputs": [],
   "source": [
    "import pandas as pd\n",
    "import numpy as np\n",
    "import matplotlib.pyplot as plt\n",
    "from sklearn.neural_network import MLPRegressor\n",
    "from sklearn.neural_network import MLPClassifier\n",
    "from sklearn.metrics import confusion_matrix\n",
    "from sklearn.metrics import accuracy_score\n",
    "from sklearn.metrics import balanced_accuracy_score\n",
    "from sklearn import tree\n",
    "from sklearn.svm import SVC"
   ]
  },
  {
   "cell_type": "code",
   "execution_count": 50,
   "id": "59fea8df",
   "metadata": {},
   "outputs": [
    {
     "name": "stdout",
     "output_type": "stream",
     "text": [
      "['fixed acidity', 'volatile acidity', 'citric acid', 'residual sugar', 'chlorides', 'free sulfur dioxide', 'total sulfur dioxide', 'density', 'pH', 'sulphates', 'alcohol', 'quality']\n"
     ]
    }
   ],
   "source": [
    "csvFile = pd.read_csv('../Datasets/winequality-red.csv')\n",
    "colNames = list(csvFile.columns)\n",
    "\n",
    "print(colNames)\n",
    "\n",
    "colNamesX = colNames.copy()\n",
    "colNamesX.remove('quality')\n",
    "dfX = csvFile[colNamesX]\n",
    "X = dfX.values\n",
    "Y = csvFile['quality'].values"
   ]
  },
  {
   "cell_type": "code",
   "execution_count": 51,
   "id": "5dff468a",
   "metadata": {},
   "outputs": [
    {
     "name": "stdout",
     "output_type": "stream",
     "text": [
      "[ 679  591 1456 ... 1551  275 1483]\n",
      "1279\n"
     ]
    }
   ],
   "source": [
    "numsMe = np.random.permutation(csvFile.shape[0])\n",
    "_thresh = int(np.floor(csvFile.shape[0]*.8))\n",
    "\n",
    "print(numsMe)\n",
    "print(_thresh)\n",
    "\n",
    "trainInds =  numsMe[:_thresh]\n",
    "testInds  =  numsMe[_thresh:]\n",
    "\n",
    "TrainX, TestX = X[trainInds], X[testInds]\n",
    "TrainY, TestY = Y[trainInds], Y[testInds]"
   ]
  },
  {
   "cell_type": "code",
   "execution_count": 52,
   "id": "1758f523",
   "metadata": {},
   "outputs": [],
   "source": [
    "# clf = MLPClassifier(solver='adam', alpha=1e-5, hidden_layer_sizes=(12, ), random_state=1)\n",
    "# clf.fit(TrainX, TrainY)\n",
    "\n",
    "# clf = tree.DecisionTreeClassifier()\n",
    "# clf = clf.fit(TrainX, TrainY)\n",
    "\n",
    "clf = SVC()\n",
    "clf = clf.fit(TrainX, TrainY)\n",
    "\n"
   ]
  },
  {
   "cell_type": "code",
   "execution_count": 53,
   "id": "d27edee0",
   "metadata": {},
   "outputs": [
    {
     "name": "stdout",
     "output_type": "stream",
     "text": [
      "[[  0   2   5   0   0]\n",
      " [  0  67  74   0   0]\n",
      " [  0  32 101   0   0]\n",
      " [  0   5  32   0   0]\n",
      " [  0   1   1   0   0]]\n",
      "0.525\n",
      "0.24691516024102808\n"
     ]
    }
   ],
   "source": [
    "preds = clf.predict(TestX)\n",
    "\n",
    "cm = confusion_matrix(TestY, preds)\n",
    "print(cm)\n",
    "\n",
    "acc = accuracy_score(TestY, preds)\n",
    "print(acc)\n",
    "\n",
    "accb = balanced_accuracy_score(TestY, preds)\n",
    "print(accb)"
   ]
  },
  {
   "cell_type": "code",
   "execution_count": 53,
   "id": "602eb79e",
   "metadata": {},
   "outputs": [],
   "source": []
  }
 ],
 "metadata": {
  "kernelspec": {
   "display_name": "Python 3 (ipykernel)",
   "language": "python",
   "name": "python3"
  },
  "language_info": {
   "codemirror_mode": {
    "name": "ipython",
    "version": 3
   },
   "file_extension": ".py",
   "mimetype": "text/x-python",
   "name": "python",
   "nbconvert_exporter": "python",
   "pygments_lexer": "ipython3",
   "version": "3.9.7"
  }
 },
 "nbformat": 4,
 "nbformat_minor": 5
}
