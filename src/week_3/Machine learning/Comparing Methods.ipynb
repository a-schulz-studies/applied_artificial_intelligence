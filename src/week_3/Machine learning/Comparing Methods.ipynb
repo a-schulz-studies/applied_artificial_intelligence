{
 "cells": [
  {
   "cell_type": "code",
   "execution_count": 27,
   "outputs": [],
   "source": [
    "import pandas as pd\n",
    "import numpy as np\n",
    "import matplotlib.pyplot as plt\n",
    "from sklearn.neural_network import MLPRegressor\n",
    "from sklearn.neural_network import MLPClassifier\n",
    "from sklearn.metrics import confusion_matrix\n",
    "from sklearn.metrics import accuracy_score\n",
    "from sklearn.metrics import balanced_accuracy_score\n",
    "from sklearn import tree\n",
    "from sklearn.svm import SVC\n",
    "from sklearn.metrics import mean_squared_error as MSE"
   ],
   "metadata": {
    "collapsed": false
   }
  },
  {
   "cell_type": "code",
   "execution_count": 28,
   "outputs": [
    {
     "name": "stdout",
     "output_type": "stream",
     "text": [
      "['fixed acidity', 'volatile acidity', 'citric acid', 'residual sugar', 'chlorides', 'free sulfur dioxide', 'total sulfur dioxide', 'density', 'pH', 'sulphates', 'alcohol', 'quality']\n"
     ]
    }
   ],
   "source": [
    "csvFile = pd.read_csv('../Datasets/winequality-red.csv')\n",
    "colNames = list(csvFile.columns)\n",
    "\n",
    "print(colNames)\n",
    "\n",
    "colNamesX = colNames.copy()\n",
    "colNamesX.remove('quality')\n",
    "dfX = csvFile[colNamesX]\n",
    "X = dfX.values\n",
    "Y = csvFile['quality'].values"
   ],
   "metadata": {
    "collapsed": false
   }
  },
  {
   "cell_type": "code",
   "execution_count": 29,
   "outputs": [
    {
     "name": "stdout",
     "output_type": "stream",
     "text": [
      "[ 367 1394  652 ...  666 1467 1534]\n",
      "1279\n"
     ]
    }
   ],
   "source": [
    "# Randomize the data because it could be sorted.\n",
    "numsMe = np.random.permutation(csvFile.shape[0])\n",
    "_thresh = int(np.floor(csvFile.shape[0]*.8))\n",
    "\n",
    "print(numsMe)\n",
    "print(_thresh)\n",
    "\n",
    "trainInds =  numsMe[:_thresh]\n",
    "testInds  =  numsMe[_thresh:]\n",
    "\n",
    "TrainX, TestX = X[trainInds], X[testInds]\n",
    "TrainY, TestY = Y[trainInds], Y[testInds]"
   ],
   "metadata": {
    "collapsed": false
   }
  },
  {
   "cell_type": "code",
   "execution_count": 30,
   "outputs": [
    {
     "name": "stderr",
     "output_type": "stream",
     "text": [
      "C:\\Users\\schul\\AppData\\Local\\pypoetry\\Cache\\virtualenvs\\week_2-fQXySU9Y-py3.10\\lib\\site-packages\\sklearn\\neural_network\\_multilayer_perceptron.py:686: ConvergenceWarning: Stochastic Optimizer: Maximum iterations (200) reached and the optimization hasn't converged yet.\n",
      "  warnings.warn(\n",
      "C:\\Users\\schul\\AppData\\Local\\pypoetry\\Cache\\virtualenvs\\week_2-fQXySU9Y-py3.10\\lib\\site-packages\\sklearn\\neural_network\\_multilayer_perceptron.py:686: ConvergenceWarning: Stochastic Optimizer: Maximum iterations (200) reached and the optimization hasn't converged yet.\n",
      "  warnings.warn(\n"
     ]
    }
   ],
   "source": [
    "# clf = MLPClassifier(solver='adam', alpha=1e-5, hidden_layer_sizes=(12, ), random_state=1)\n",
    "# clf.fit(TrainX, TrainY)\n",
    "\n",
    "clf_dt = tree.DecisionTreeClassifier()\n",
    "clf_dt = clf_dt.fit(TrainX, TrainY)\n",
    "\n",
    "clf_nn = MLPClassifier(solver='adam', alpha=1e-5, hidden_layer_sizes=(12,), random_state=1)\n",
    "clf_nn.fit(TrainX, TrainY)\n",
    "\n",
    "clf_nn_reg = MLPRegressor(solver='adam', alpha=1e-5, hidden_layer_sizes=(12,), random_state=1)\n",
    "clf_nn_reg.fit(TrainX, TrainY)\n",
    "\n",
    "clf_svm = SVC()\n",
    "clf_svm = clf_svm.fit(TrainX, TrainY)\n",
    "\n",
    "models = [clf_dt, clf_nn, clf_nn_reg, clf_svm]"
   ],
   "metadata": {
    "collapsed": false
   }
  },
  {
   "cell_type": "code",
   "execution_count": 33,
   "outputs": [
    {
     "name": "stdout",
     "output_type": "stream",
     "text": [
      "DecisionTreeClassifier()\n",
      "[[  0   0   0   1   0   0]\n",
      " [  1   2   3   3   1   0]\n",
      " [  1   9 106  24   3   0]\n",
      " [  0   3  25  77  10   1]\n",
      " [  0   1   7  18  21   0]\n",
      " [  0   0   0   1   2   0]]\n",
      "0.64375\n",
      "0.34197672589088585\n",
      "MLPClassifier(alpha=1e-05, hidden_layer_sizes=(12,), random_state=1)\n",
      "[[ 0  0  1  0  0  0]\n",
      " [ 0  0  2  8  0  0]\n",
      " [ 0  0 99 44  0  0]\n",
      " [ 0  1 35 79  1  0]\n",
      " [ 0  1  5 37  4  0]\n",
      " [ 0  0  0  3  0  0]]\n",
      "0.56875\n",
      "0.24307475967417272\n",
      "MLPRegressor(alpha=1e-05, hidden_layer_sizes=(12,), random_state=1)\n",
      "0.5181013072605832\n",
      "SVC()\n",
      "[[ 0  0  0  1  0  0]\n",
      " [ 0  0  1  9  0  0]\n",
      " [ 0  0 66 77  0  0]\n",
      " [ 0  0 24 92  0  0]\n",
      " [ 0  0  6 41  0  0]\n",
      " [ 0  0  1  2  0  0]]\n",
      "0.49375\n",
      "0.20910698496905397\n"
     ]
    }
   ],
   "source": [
    "# Results\n",
    "for i in models:\n",
    "    print(i)\n",
    "    preds = i.predict(TestX)\n",
    "    if type(i) == MLPRegressor:\n",
    "        mse = MSE(TestY, preds)\n",
    "        print(mse)\n",
    "    else:\n",
    "        # predicted class horizontal, actual class vertical\n",
    "        cm = confusion_matrix(TestY, preds)\n",
    "        print(cm)\n",
    "\n",
    "        # giving the predictions of our model and comparing to our test\n",
    "        acc = accuracy_score(TestY, preds)\n",
    "        print(acc)\n",
    "\n",
    "        # different classes have different quantity of data for training (some are better), so we balance the accuracy between the classes and get a better rating for the whole model\n",
    "        accb = balanced_accuracy_score(TestY, preds)\n",
    "        print(accb)"
   ],
   "metadata": {
    "collapsed": false
   }
  },
  {
   "cell_type": "code",
   "execution_count": 31,
   "outputs": [],
   "source": [],
   "metadata": {
    "collapsed": false
   }
  }
 ],
 "metadata": {
  "kernelspec": {
   "display_name": "Python 3",
   "language": "python",
   "name": "python3"
  },
  "language_info": {
   "codemirror_mode": {
    "name": "ipython",
    "version": 2
   },
   "file_extension": ".py",
   "mimetype": "text/x-python",
   "name": "python",
   "nbconvert_exporter": "python",
   "pygments_lexer": "ipython2",
   "version": "2.7.6"
  }
 },
 "nbformat": 4,
 "nbformat_minor": 0
}
