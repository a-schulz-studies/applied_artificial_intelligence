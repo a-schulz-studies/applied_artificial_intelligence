{
 "cells": [
  {
   "cell_type": "code",
   "execution_count": 14,
   "id": "4ced17e6",
   "metadata": {},
   "outputs": [],
   "source": [
    "import pandas as pd\n",
    "import numpy as np\n",
    "import matplotlib.pyplot as plt\n",
    "from sklearn.neural_network import MLPRegressor\n",
    "from sklearn.neural_network import MLPClassifier\n",
    "from sklearn.metrics import confusion_matrix\n",
    "from sklearn.metrics import accuracy_score\n",
    "from sklearn.metrics import balanced_accuracy_score\n",
    "from sklearn import tree"
   ]
  },
  {
   "cell_type": "code",
   "execution_count": 15,
   "id": "59fea8df",
   "metadata": {},
   "outputs": [
    {
     "name": "stdout",
     "output_type": "stream",
     "text": [
      "['X0', 'X1', 'X2', 'X3', 'X4', 'X5', 'Y']\n"
     ]
    }
   ],
   "source": [
    "csvFile = pd.read_csv('../Datasets/Dataset2.csv')\n",
    "colNames = list(csvFile.columns)\n",
    "\n",
    "print(colNames)\n",
    "\n",
    "colNamesX = colNames.copy()\n",
    "colNamesX.remove('Y')\n",
    "dfX = csvFile[colNamesX]\n",
    "X = dfX.values\n",
    "Y = csvFile['Y'].values"
   ]
  },
  {
   "cell_type": "code",
   "execution_count": 21,
   "id": "5dff468a",
   "metadata": {},
   "outputs": [
    {
     "name": "stdout",
     "output_type": "stream",
     "text": [
      "[[0.54220203 0.53558762 0.58192221 0.38757401 0.50345044 0.32572426]\n",
      " [0.5024821  0.66570861 0.60854324 0.6497673  0.15291267 0.25092014]\n",
      " [0.65879189 0.47351304 0.69698654 0.4215717  0.62688795 0.4794807 ]\n",
      " ...\n",
      " [0.58525998 0.52728988 0.48779673 0.53781446 0.47192761 0.39445905]\n",
      " [0.59773904 0.26696428 0.50588613 0.18933201 0.86855811 0.61962737]\n",
      " [0.61464158 0.53079299 0.47949704 0.61145476 0.54809624 0.38035365]]\n"
     ]
    }
   ],
   "source": [
    "# Randomize the data because it could be sorted.\n",
    "numsMe = np.random.permutation(csvFile.shape[0])\n",
    "\n",
    "# Normalize the data\n",
    "for i in range(X.shape[1]):\n",
    "    # Scaling normalization\n",
    "    X[:, i] = (X[:, i] - np.amin(X[:, i])) / (np.amax(X[:, i]) - np.amin(X[:, i]))\n",
    "\n",
    "# print(X)\n",
    "# Split the data into training and testing\n",
    "_thresh = int(np.floor(csvFile.shape[0] * .8))\n",
    "\n",
    "# print(numsMe)\n",
    "# print(_thresh)\n",
    "\n",
    "trainInds = numsMe[:_thresh]\n",
    "testInds = numsMe[_thresh:]\n",
    "\n",
    "TrainX, TestX = X[trainInds], X[testInds]\n",
    "TrainY, TestY = Y[trainInds], Y[testInds]"
   ]
  },
  {
   "cell_type": "code",
   "execution_count": 17,
   "id": "1758f523",
   "metadata": {},
   "outputs": [],
   "source": [
    "# clf = MLPClassifier(solver='adam', alpha=1e-5, hidden_layer_sizes=(12, ), random_state=1)\n",
    "# clf.fit(TrainX, TrainY)\n",
    "\n",
    "clf = tree.DecisionTreeClassifier()\n",
    "clf = clf.fit(TrainX, TrainY)\n"
   ]
  },
  {
   "cell_type": "code",
   "execution_count": 18,
   "id": "d27edee0",
   "metadata": {},
   "outputs": [
    {
     "name": "stdout",
     "output_type": "stream",
     "text": [
      "[[17  3  2  5]\n",
      " [ 3 15  8  3]\n",
      " [ 2  2 28  4]\n",
      " [ 3  9  5 19]]\n",
      "0.6171875\n",
      "0.6131066411238825\n"
     ]
    }
   ],
   "source": [
    "preds = clf.predict(TestX)\n",
    "\n",
    "# predicted class horizontal, actual class vertical\n",
    "cm = confusion_matrix(TestY, preds)\n",
    "print(cm)\n",
    "\n",
    "# giving the predictions of our model and comparing to our test\n",
    "acc = accuracy_score(TestY, preds)\n",
    "print(acc)\n",
    "\n",
    "# different classes have different quantity of data for training (some are better), so we balance the accuracy between the classes and get a better rating for the whole model\n",
    "accb = balanced_accuracy_score(TestY, preds)\n",
    "print(accb)"
   ]
  },
  {
   "cell_type": "code",
   "execution_count": 19,
   "id": "602eb79e",
   "metadata": {},
   "outputs": [
    {
     "name": "stdout",
     "output_type": "stream",
     "text": [
      "Accuracy=0.6171875\n"
     ]
    }
   ],
   "source": [
    "correct_preds = 0\n",
    "# print(len(preds), len(TestY))\n",
    "for index, i in enumerate(preds):\n",
    "    if i == TestY[index]:\n",
    "        correct_preds = correct_preds + 1\n",
    "# print(\"Number Testdata\" + str(len(TestY)))\n",
    "accuracy = correct_preds / len(TestY)\n",
    "print(\"Accuracy=\" + str(accuracy))"
   ]
  },
  {
   "cell_type": "code",
   "execution_count": 20,
   "outputs": [],
   "source": [],
   "metadata": {
    "collapsed": false
   }
  }
 ],
 "metadata": {
  "kernelspec": {
   "display_name": "Python 3 (ipykernel)",
   "language": "python",
   "name": "python3"
  },
  "language_info": {
   "codemirror_mode": {
    "name": "ipython",
    "version": 3
   },
   "file_extension": ".py",
   "mimetype": "text/x-python",
   "name": "python",
   "nbconvert_exporter": "python",
   "pygments_lexer": "ipython3",
   "version": "3.9.7"
  }
 },
 "nbformat": 4,
 "nbformat_minor": 5
}
