{
 "cells": [
  {
   "cell_type": "code",
   "execution_count": 1,
   "outputs": [],
   "source": [
    "import pandas as pd\n",
    "import numpy as np\n",
    "import matplotlib.pyplot as plt\n",
    "from sklearn.neural_network import MLPRegressor\n",
    "from sklearn.neural_network import MLPClassifier\n",
    "from sklearn.metrics import confusion_matrix\n",
    "from sklearn.metrics import accuracy_score\n",
    "from sklearn.metrics import balanced_accuracy_score\n",
    "from sklearn import tree\n",
    "from sklearn.svm import SVC"
   ],
   "metadata": {
    "collapsed": false,
    "ExecuteTime": {
     "start_time": "2023-04-26T21:12:33.619360Z",
     "end_time": "2023-04-26T21:12:38.280982Z"
    }
   }
  },
  {
   "cell_type": "code",
   "execution_count": 2,
   "metadata": {
    "collapsed": true,
    "ExecuteTime": {
     "start_time": "2023-04-26T21:12:38.334591Z",
     "end_time": "2023-04-26T21:12:38.375354Z"
    }
   },
   "outputs": [
    {
     "name": "stdout",
     "output_type": "stream",
     "text": [
      "['X0', 'X1', 'X2', 'X3', 'X4', 'Y']\n",
      "[237 246  58 354 259 367  56 336  90 113 166 241 100 398 248 358 255 123\n",
      " 155 339 287 214  18  54 301 372 408  13 210 264 338 234 365 143  61  12\n",
      " 399 343 297 173  91 179 115 187 117 402 258 370 377 198 318  84 139 350\n",
      " 197  50 219  62 116 136 381 274  45 380 368  28 203 180 247 300 267 362\n",
      " 314 107 390 144 176 220 397 138 263 150 168 222  94 135 212 101 348 329\n",
      " 388 103 288 284 404 125 335 240 229 213 360 332  36 387  53 376 190 352\n",
      " 369   6 298   9 130  69 221   4 277 407 383 351  30  85 186  77 256 243\n",
      " 218 177 122 356 206 359 204 268 337  51 345 232 129 184  74 379 200  49\n",
      " 319  16 193  66 269 278 109 296  22  11 386 400 202  87 195 394  52 353\n",
      " 132  81  26 405   7 310 293  89 148 160 131 382 151 344 223  21 209 333\n",
      " 285 225 245   2  95 249  92   3  41 230 165  55 307  59 349  31  42 253\n",
      "  76 302  60 158 384 299 242 385 140 153 283 366  98  29  14 364  10  72\n",
      " 141 106  34  79 196 327 227 252 211  63  67 266  73 224 315 118 157 161\n",
      " 159 393 207 265 262  33  83 375 111  68 199 239 250  97 194 325  46 108\n",
      " 328 276 167 233  17 275 105 272 104  25 189 110  32 340  93 154 346 389\n",
      "  86  70 401 170 396 172 317  27 201 326 410 374 273 127 112 192 254 149\n",
      " 391  65 295 114 279 215 164 162  57 235  19 133 216 205 378 282  38 280\n",
      "  82 334 323 320 181 292 321 124  78 128 102  20  40 392  48 261 294 355\n",
      " 163 330  15 395 281 226 146 208 217 231 303 156   8 121 238  64 311 322\n",
      "  24 126 286 147 251  23  88 341  96 120  71 406  43 175 174 228 361 403\n",
      " 347 363 316  80 271 342 357 309 313 188  35 137   1 305 185 182 191  47\n",
      " 244 171 306 304 371 270 178 373  99 145 119 236  75   5 152 142 291 289\n",
      " 134  44 409 308 312 260  39 331  37 290 324   0 257 183 169]\n",
      "328\n"
     ]
    }
   ],
   "source": [
    "csvFile = pd.read_csv('../Datasets/Dataset3.csv')\n",
    "colNames = list(csvFile.columns)\n",
    "\n",
    "print(colNames)\n",
    "\n",
    "colNamesX = colNames.copy()\n",
    "colNamesX.remove('Y')\n",
    "dfX = csvFile[colNamesX]\n",
    "X = dfX.values\n",
    "Y = csvFile['Y'].values\n",
    "# Randomize the data because it could be sorted.\n",
    "numsMe = np.random.permutation(csvFile.shape[0])\n",
    "_thresh = int(np.floor(csvFile.shape[0] * .8))\n",
    "\n",
    "print(numsMe)\n",
    "print(_thresh)\n",
    "\n",
    "trainInds = numsMe[:_thresh]\n",
    "testInds = numsMe[_thresh:]\n",
    "\n",
    "TrainX, TestX = X[trainInds], X[testInds]\n",
    "TrainY, TestY = Y[trainInds], Y[testInds]"
   ]
  },
  {
   "cell_type": "code",
   "execution_count": 3,
   "outputs": [],
   "source": [
    "clf_dt = tree.DecisionTreeClassifier()\n",
    "clf_dt = clf_dt.fit(TrainX, TrainY)\n",
    "\n",
    "clf_svc = SVC()\n",
    "clf_svc = clf_svc.fit(TrainX, TrainY)"
   ],
   "metadata": {
    "collapsed": false,
    "ExecuteTime": {
     "start_time": "2023-04-26T21:12:38.383206Z",
     "end_time": "2023-04-26T21:12:38.451488Z"
    }
   }
  },
  {
   "cell_type": "code",
   "execution_count": 4,
   "outputs": [
    {
     "name": "stdout",
     "output_type": "stream",
     "text": [
      "Decision Tree Classifier\n",
      "Specificity:  0.8723404255319149\n",
      "Sensitivity:  0.8888888888888888\n",
      "F1 Score:  0.8648648648648649\n",
      "Accuracy:  0.8795180722891566\n",
      "SVM Classifier\n",
      "Specificity:  0.9148936170212766\n",
      "Sensitivity:  0.8611111111111112\n",
      "F1 Score:  0.8732394366197183\n",
      "Accuracy:  0.891566265060241\n"
     ]
    }
   ],
   "source": [
    "# Calculating the accuracy of the decision tree classifier\n",
    "predY_dt = clf_dt.predict(TestX)\n",
    "tp = 0\n",
    "tn = 0\n",
    "fp = 0\n",
    "fn = 0\n",
    "# 0 is positive, 1 is negative\n",
    "\n",
    "for index, i in enumerate(predY_dt):\n",
    "    if i == TestY[index]:\n",
    "        if i == 0:\n",
    "            tp += 1\n",
    "        else:\n",
    "            tn += 1\n",
    "    else:\n",
    "        if i == 0:\n",
    "            fp += 1\n",
    "        else:\n",
    "            fn += 1\n",
    "\n",
    "specificity = tn / (tn + fp)\n",
    "sensitivity = tp / (tp + fn)\n",
    "f1_score = 2 * tp / (2 * tp + fp + fn)\n",
    "\n",
    "print(\"Decision Tree Classifier\")\n",
    "print(\"Specificity: \", specificity)\n",
    "print(\"Sensitivity: \", sensitivity)\n",
    "print(\"F1 Score: \", f1_score)\n",
    "print(\"Accuracy: \", accuracy_score(TestY, predY_dt))\n",
    "\n",
    "# Calculating the accuracy of the SVM classifier\n",
    "predY_svc = clf_svc.predict(TestX)\n",
    "tp = 0\n",
    "tn = 0\n",
    "fp = 0\n",
    "fn = 0\n",
    "# 0 is positive, 1 is negative\n",
    "\n",
    "for index, i in enumerate(predY_svc):\n",
    "    if i == TestY[index]:\n",
    "        if i == 0:\n",
    "            tp += 1\n",
    "        else:\n",
    "            tn += 1\n",
    "    else:\n",
    "        if i == 0:\n",
    "            fp += 1\n",
    "        else:\n",
    "            fn += 1\n",
    "\n",
    "specificity = tn / (tn + fp)\n",
    "sensitivity = tp / (tp + fn)\n",
    "f1_score = 2 * tp / (2 * tp + fp + fn)\n",
    "\n",
    "print(\"SVM Classifier\")\n",
    "print(\"Specificity: \", specificity)\n",
    "print(\"Sensitivity: \", sensitivity)\n",
    "print(\"F1 Score: \", f1_score)\n",
    "print(\"Accuracy: \", accuracy_score(TestY, predY_svc))"
   ],
   "metadata": {
    "collapsed": false,
    "ExecuteTime": {
     "start_time": "2023-04-26T21:12:38.419450Z",
     "end_time": "2023-04-26T21:12:38.456005Z"
    }
   }
  }
 ],
 "metadata": {
  "kernelspec": {
   "display_name": "Python 3",
   "language": "python",
   "name": "python3"
  },
  "language_info": {
   "codemirror_mode": {
    "name": "ipython",
    "version": 2
   },
   "file_extension": ".py",
   "mimetype": "text/x-python",
   "name": "python",
   "nbconvert_exporter": "python",
   "pygments_lexer": "ipython2",
   "version": "2.7.6"
  }
 },
 "nbformat": 4,
 "nbformat_minor": 0
}
