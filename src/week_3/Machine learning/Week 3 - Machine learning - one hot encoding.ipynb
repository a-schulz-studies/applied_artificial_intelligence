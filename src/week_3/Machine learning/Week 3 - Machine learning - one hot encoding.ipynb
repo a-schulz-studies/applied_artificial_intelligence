{
 "cells": [
  {
   "cell_type": "code",
   "execution_count": 2,
   "id": "4ced17e6",
   "metadata": {
    "ExecuteTime": {
     "start_time": "2023-04-12T20:27:57.432298Z",
     "end_time": "2023-04-12T20:28:01.046139Z"
    }
   },
   "outputs": [],
   "source": [
    "import pandas as pd\n",
    "import numpy as np\n",
    "import matplotlib.pyplot as plt\n",
    "from sklearn.neural_network import MLPRegressor\n",
    "from sklearn.neural_network import MLPClassifier\n",
    "from sklearn.metrics import confusion_matrix\n",
    "from sklearn.metrics import accuracy_score\n",
    "from sklearn.metrics import balanced_accuracy_score\n",
    "from sklearn import tree"
   ]
  },
  {
   "cell_type": "code",
   "execution_count": 3,
   "id": "59fea8df",
   "metadata": {
    "ExecuteTime": {
     "start_time": "2023-04-12T20:28:01.055230Z",
     "end_time": "2023-04-12T20:28:01.102188Z"
    }
   },
   "outputs": [],
   "source": [
    "csvFile = pd.read_csv('../Datasets/Dataset2.csv')\n",
    "colNames = list(csvFile.columns)\n",
    "\n",
    "# print(colNames)\n",
    "\n",
    "colNamesX = colNames.copy()\n",
    "colNamesX.remove('Y')\n",
    "dfX = csvFile[colNamesX]\n",
    "X = dfX.values\n",
    "Y = csvFile['Y'].values"
   ]
  },
  {
   "cell_type": "code",
   "execution_count": 4,
   "id": "5dff468a",
   "metadata": {
    "ExecuteTime": {
     "start_time": "2023-04-12T20:28:01.087504Z",
     "end_time": "2023-04-12T20:28:01.103627Z"
    }
   },
   "outputs": [
    {
     "name": "stdout",
     "output_type": "stream",
     "text": [
      "[ 84 130 416 225 363  61 337 468  57 340 100  50  41 307  55 361 371 148\n",
      " 539  48 552   3 605 269 362 177 583 396 186 171 407  52 417 494 138 229\n",
      "  80  23 154 238 486 199 369 575   2  96 594 464 270 365 628 351  86 248\n",
      " 164 414 614 376 308 324 259 111 132 428  88 323 599 330 461 304 246 333\n",
      " 434 483 268 406 476 201  89 412  58 173 472 429  43 422 389 388 265 556\n",
      " 508  85 450  91 163 114  71 134 170 258 634 353 109 499  37 520 366 223\n",
      " 352  31 237 451 283  93 563 460 212 165 298 630 623 405 271 570 219 503\n",
      " 501 409  27  67 612 579 387 470 609 345 456  11 242 482 203 488 142 572\n",
      " 267  12  60  46  34 204 622 577 146 282  29 123   4 565 221 562 273  73\n",
      " 535 349 415 596 185  35 377 128 544 105  24   5 571 112  63 141 181 367\n",
      " 584  56 455 627 515 551  20 280 121 410 449 473 495 518 454 113 507 484\n",
      " 430 313 147  26 523 537  65 573 232 380 295 245 479 403 381 336 180 266\n",
      " 208 150 582 372 593 385 522 432 317 315 287 215 178 541 169 188 140 194\n",
      " 125 261 139 506 214 153 155  78 437 487  81 626 382 566 528 224 216 368\n",
      " 118 490 524 527 631 247 402 467 217 254 462 241 560 262 453 143 284 438\n",
      " 471 207 243 611  79  32 399 133 578  51 424 425 136 356 190 227 514 347\n",
      " 625 530 477 122 200 360  77 293 391  44 496 272 116  25 603 294 239 620\n",
      " 393   0 397 251 386 485  87 197 588  70 341 319  82 263 328 608 504 206\n",
      " 394 557 339 240  59 230   6 580   1 615 175 297 236  18 463 220  92 331\n",
      " 607 398 300 481 338   8 558 435 196 373 305 549 465 517 192 327  94 193\n",
      "  28 202 288 198 458 279 533 357 492 159 244 619 595 516 384 550 419 427\n",
      " 441 354 411 131 569 568 624 205 498 378  76  90 521 374 264  74 115 252\n",
      "  62 129  30 547 250 191 542 505 276 475 231 525 457 110 187 633 589 529\n",
      " 497  40 383 511 585 309 408 526 306  98 618 358 329 597 218  97 538 466\n",
      " 211 226 478  14 168 303 167 548 144 222 606  54 590 256 395 375 316 621\n",
      " 234 145 166 101 172 278 325 312 286 445 311 559 616 195 600 601  16 104\n",
      " 318 638 469 289 126 235 124 292 392 277 400   9 555 442 151 635  17 174\n",
      " 404 531 334 545 592  66  42 629 257 346 302 567  39 260 249  95 158 108\n",
      " 439 553 502 591 350 534 420 433 500 554 162 474 119 610  19  68 637 161\n",
      "  22   7 355 274 343 299  83 359 342 423 586 332 444 314  64 255 275 459\n",
      "  10  53 322 117 348 102 613  45 179 120 103 536 632 509 135 561 182 176\n",
      " 421 512 546 543  33 209 183 493 233 413 440 564 401  49 480 602 574 184\n",
      " 510 379 301  72 364 426 370  69 436  38 604 285 291 390 617 290 344 310\n",
      " 228 636 296 418 137 447  75  15 443 160 446 320 213 281 513  36 431 253\n",
      " 519 452  13  21 156 576 107 532 106 149 587 321 540 491 127 598 448 581\n",
      " 335 489  99 210 152 326 157  47 189]\n",
      "511\n"
     ]
    }
   ],
   "source": [
    "# Randomize the data because it could be sorted.\n",
    "numsMe = np.random.permutation(csvFile.shape[0])\n",
    "\n",
    "Y_Arr = np.zeros((Y.shape[0], 3))\n",
    "for i in range(Y.shape[0]):\n",
    "    if Y[i] == 1:\n",
    "        Y_Arr[i] = [1, 0, 0]\n",
    "    elif Y[i] == 2:\n",
    "        Y_Arr[i] = [0, 1, 0]\n",
    "    elif Y[i] == 3:\n",
    "        Y_Arr[i] = [0, 0, 1]\n",
    "\n",
    "_thresh = int(np.floor(csvFile.shape[0] * .8))\n",
    "\n",
    "print(numsMe)\n",
    "print(_thresh)\n",
    "\n",
    "trainInds = numsMe[:_thresh]\n",
    "testInds = numsMe[_thresh:]\n",
    "\n",
    "TrainX, TestX = X[trainInds], X[testInds]\n",
    "TrainY, TestY = Y_Arr[trainInds,:], Y_Arr[testInds,:]\n",
    "\n",
    "# print(TrainY)"
   ]
  },
  {
   "cell_type": "code",
   "execution_count": 5,
   "id": "1758f523",
   "metadata": {
    "ExecuteTime": {
     "start_time": "2023-04-12T20:28:01.103627Z",
     "end_time": "2023-04-12T20:28:01.119263Z"
    }
   },
   "outputs": [],
   "source": [
    "# clf = MLPClassifier(solver='adam', alpha=1e-5, hidden_layer_sizes=(12, ), random_state=1)\n",
    "# clf.fit(TrainX, TrainY)\n",
    "\n",
    "clf = tree.DecisionTreeClassifier()\n",
    "clf = clf.fit(TrainX, TrainY)\n"
   ]
  },
  {
   "cell_type": "code",
   "execution_count": 10,
   "id": "d27edee0",
   "metadata": {
    "ExecuteTime": {
     "start_time": "2023-04-12T20:30:18.364412Z",
     "end_time": "2023-04-12T20:30:18.419674Z"
    }
   },
   "outputs": [
    {
     "name": "stdout",
     "output_type": "stream",
     "text": [
      "[[0. 0. 0.]\n",
      " [1. 0. 0.]\n",
      " [0. 0. 0.]\n",
      " [0. 0. 0.]\n",
      " [0. 0. 0.]\n",
      " [0. 0. 0.]\n",
      " [0. 0. 1.]\n",
      " [0. 0. 1.]\n",
      " [0. 0. 1.]\n",
      " [0. 0. 1.]\n",
      " [0. 0. 1.]\n",
      " [0. 0. 0.]\n",
      " [1. 0. 0.]\n",
      " [0. 0. 0.]\n",
      " [1. 0. 0.]\n",
      " [0. 0. 0.]\n",
      " [0. 0. 1.]\n",
      " [0. 0. 1.]\n",
      " [0. 0. 1.]\n",
      " [1. 0. 0.]\n",
      " [1. 0. 0.]\n",
      " [1. 0. 0.]\n",
      " [0. 1. 0.]\n",
      " [0. 1. 0.]\n",
      " [0. 0. 1.]\n",
      " [0. 1. 0.]\n",
      " [0. 0. 0.]\n",
      " [0. 0. 0.]\n",
      " [1. 0. 0.]\n",
      " [0. 1. 0.]\n",
      " [0. 0. 1.]\n",
      " [1. 0. 0.]\n",
      " [0. 1. 0.]\n",
      " [0. 0. 1.]\n",
      " [0. 0. 1.]\n",
      " [0. 0. 0.]\n",
      " [0. 1. 0.]\n",
      " [0. 1. 0.]\n",
      " [0. 0. 0.]\n",
      " [0. 0. 0.]\n",
      " [1. 0. 0.]\n",
      " [0. 1. 0.]\n",
      " [0. 0. 0.]\n",
      " [0. 0. 1.]\n",
      " [0. 1. 0.]\n",
      " [0. 1. 0.]\n",
      " [0. 0. 0.]\n",
      " [0. 1. 0.]\n",
      " [0. 0. 0.]\n",
      " [0. 1. 0.]\n",
      " [0. 0. 1.]\n",
      " [0. 1. 0.]\n",
      " [0. 1. 0.]\n",
      " [0. 0. 1.]\n",
      " [1. 0. 0.]\n",
      " [0. 0. 0.]\n",
      " [0. 0. 1.]\n",
      " [0. 0. 0.]\n",
      " [0. 1. 0.]\n",
      " [1. 0. 0.]\n",
      " [1. 0. 0.]\n",
      " [0. 1. 0.]\n",
      " [0. 0. 0.]\n",
      " [0. 1. 0.]\n",
      " [1. 0. 0.]\n",
      " [0. 0. 0.]\n",
      " [0. 0. 1.]\n",
      " [0. 1. 0.]\n",
      " [0. 0. 1.]\n",
      " [1. 0. 0.]\n",
      " [0. 1. 0.]\n",
      " [0. 0. 1.]\n",
      " [1. 0. 0.]\n",
      " [0. 0. 0.]\n",
      " [0. 0. 0.]\n",
      " [0. 0. 1.]\n",
      " [0. 1. 0.]\n",
      " [0. 0. 1.]\n",
      " [0. 0. 0.]\n",
      " [1. 0. 0.]\n",
      " [1. 0. 0.]\n",
      " [1. 0. 0.]\n",
      " [0. 1. 0.]\n",
      " [0. 0. 1.]\n",
      " [0. 0. 0.]\n",
      " [0. 0. 0.]\n",
      " [0. 0. 1.]\n",
      " [0. 1. 0.]\n",
      " [0. 0. 1.]\n",
      " [0. 1. 0.]\n",
      " [1. 0. 0.]\n",
      " [0. 0. 1.]\n",
      " [0. 0. 0.]\n",
      " [1. 0. 0.]\n",
      " [0. 0. 1.]\n",
      " [0. 0. 1.]\n",
      " [0. 0. 0.]\n",
      " [0. 0. 0.]\n",
      " [1. 0. 0.]\n",
      " [0. 1. 0.]\n",
      " [1. 0. 0.]\n",
      " [1. 0. 0.]\n",
      " [0. 0. 1.]\n",
      " [0. 0. 1.]\n",
      " [0. 1. 0.]\n",
      " [0. 0. 0.]\n",
      " [0. 0. 1.]\n",
      " [0. 0. 0.]\n",
      " [0. 0. 1.]\n",
      " [0. 0. 0.]\n",
      " [0. 0. 1.]\n",
      " [0. 0. 1.]\n",
      " [0. 1. 0.]\n",
      " [1. 0. 0.]\n",
      " [0. 1. 0.]\n",
      " [0. 1. 0.]\n",
      " [0. 0. 1.]\n",
      " [1. 0. 0.]\n",
      " [0. 0. 0.]\n",
      " [0. 1. 0.]\n",
      " [0. 0. 1.]\n",
      " [0. 1. 0.]\n",
      " [1. 0. 0.]\n",
      " [1. 0. 0.]\n",
      " [0. 0. 0.]\n",
      " [0. 0. 1.]\n",
      " [0. 0. 1.]\n",
      " [0. 0. 1.]]\n"
     ]
    }
   ],
   "source": [
    "preds = clf.predict(TestX)\n",
    "# print(preds)\n",
    "# predicted class horizontal, actual class vertical\n",
    "# cm = confusion_matrix(TestY, preds)\n",
    "# print(cm)\n",
    "\n",
    "# giving the predictions of our model and comparing to our test\n",
    "# acc = accuracy_score(TestY, preds)\n",
    "# print(acc)\n",
    "\n",
    "# different classes have different quantity of data for training (some are better), so we balance the accuracy between the classes and get a better rating for the whole model\n",
    "# accb = balanced_accuracy_score(TestY, preds)\n",
    "# print(accb)"
   ]
  },
  {
   "cell_type": "code",
   "execution_count": 23,
   "id": "602eb79e",
   "metadata": {
    "ExecuteTime": {
     "start_time": "2023-04-12T21:24:05.117230Z",
     "end_time": "2023-04-12T21:24:05.199236Z"
    }
   },
   "outputs": [
    {
     "name": "stdout",
     "output_type": "stream",
     "text": [
      "Accuracy=0.671875\n"
     ]
    }
   ],
   "source": [
    "correct_preds = 0\n",
    "for index, i in enumerate(preds):\n",
    "    if np.array_equal(i, TestY[index]):\n",
    "        correct_preds = correct_preds + 1\n",
    "accuracy = correct_preds / len(TestY)\n",
    "print(\"Accuracy=\" + str(accuracy))"
   ]
  },
  {
   "cell_type": "code",
   "execution_count": null,
   "outputs": [],
   "source": [
    "# Number of true positive\n"
   ],
   "metadata": {
    "collapsed": false
   }
  },
  {
   "cell_type": "code",
   "execution_count": null,
   "outputs": [],
   "source": [],
   "metadata": {
    "collapsed": false
   }
  }
 ],
 "metadata": {
  "kernelspec": {
   "display_name": "Python 3 (ipykernel)",
   "language": "python",
   "name": "python3"
  },
  "language_info": {
   "codemirror_mode": {
    "name": "ipython",
    "version": 3
   },
   "file_extension": ".py",
   "mimetype": "text/x-python",
   "name": "python",
   "nbconvert_exporter": "python",
   "pygments_lexer": "ipython3",
   "version": "3.9.7"
  }
 },
 "nbformat": 4,
 "nbformat_minor": 5
}
