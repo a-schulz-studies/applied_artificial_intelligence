{
 "cells": [
  {
   "cell_type": "code",
   "execution_count": 1,
   "outputs": [],
   "source": [
    "import pandas as pd\n",
    "import numpy as np\n",
    "import matplotlib.pyplot as plt\n",
    "from sklearn.neural_network import MLPRegressor\n",
    "from sklearn.neural_network import MLPClassifier\n",
    "from sklearn.metrics import confusion_matrix\n",
    "from sklearn.metrics import accuracy_score\n",
    "from sklearn.metrics import balanced_accuracy_score\n",
    "from sklearn import tree\n",
    "from sklearn.svm import SVC"
   ],
   "metadata": {
    "collapsed": false,
    "ExecuteTime": {
     "start_time": "2023-05-03T17:18:14.321086Z",
     "end_time": "2023-05-03T17:18:25.356672Z"
    }
   }
  },
  {
   "cell_type": "code",
   "execution_count": 2,
   "metadata": {
    "collapsed": true,
    "ExecuteTime": {
     "start_time": "2023-05-03T17:18:25.445085Z",
     "end_time": "2023-05-03T17:18:25.967761Z"
    }
   },
   "outputs": [
    {
     "data": {
      "text/plain": "<Figure size 640x480 with 1 Axes>",
      "image/png": "[encoded data removed]"
     },
     "metadata": {},
     "output_type": "display_data"
    }
   ],
   "source": [
    "csvFile = pd.read_csv('../Datasets/Dataset3.csv')\n",
    "colNames = list(csvFile.columns)\n",
    "\n",
    "# print(colNames)\n",
    "\n",
    "colNamesX = colNames.copy()\n",
    "colNamesX.remove('Y')\n",
    "dfX = csvFile[colNamesX]\n",
    "X = dfX.values\n",
    "Y = csvFile['Y'].values\n",
    "# Randomize the data because it could be sorted.\n",
    "numsMe = np.random.permutation(csvFile.shape[0])\n",
    "\n",
    "# print(numsMe)\n",
    "# folding for 3,4,5\n",
    "for curr in range(3,6):\n",
    "    num_folds = curr\n",
    "    score = 0\n",
    "    # implement cross validation\n",
    "    # https://de.mathworks.com/discovery/cross-validation.html\n",
    "    for i in range(0, num_folds):\n",
    "        partition_size = int(np.floor(csvFile.shape[0] / num_folds))\n",
    "        left_border = partition_size * i\n",
    "        right_border = partition_size * (i + 1)\n",
    "        testInds = numsMe[left_border:right_border]\n",
    "        trainInds = np.concatenate((numsMe[0:left_border], numsMe[right_border:csvFile.shape[0]]))\n",
    "\n",
    "        TrainX, TestX = X[trainInds], X[testInds]\n",
    "        TrainY, TestY = Y[trainInds], Y[testInds]\n",
    "\n",
    "        clf_dt = tree.DecisionTreeClassifier()\n",
    "        clf_dt = clf_dt.fit(TrainX, TrainY)\n",
    "\n",
    "        predY_dt = clf_dt.predict(TestX)\n",
    "\n",
    "        score = score + accuracy_score(TestY, predY_dt)\n",
    "    plt.bar(num_folds, score/num_folds)\n",
    "plt.show()"
   ]
  }
 ],
 "metadata": {
  "kernelspec": {
   "display_name": "Python 3",
   "language": "python",
   "name": "python3"
  },
  "language_info": {
   "codemirror_mode": {
    "name": "ipython",
    "version": 2
   },
   "file_extension": ".py",
   "mimetype": "text/x-python",
   "name": "python",
   "nbconvert_exporter": "python",
   "pygments_lexer": "ipython2",
   "version": "2.7.6"
  }
 },
 "nbformat": 4,
 "nbformat_minor": 0
}
