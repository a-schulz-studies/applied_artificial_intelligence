{
 "cells": [
  {
   "cell_type": "code",
   "execution_count": 1,
   "outputs": [],
   "source": [
    "import pandas as pd\n",
    "import numpy as np\n",
    "import matplotlib.pyplot as plt\n",
    "from sklearn.neural_network import MLPRegressor\n",
    "from sklearn.neural_network import MLPClassifier\n",
    "from sklearn.metrics import confusion_matrix\n",
    "from sklearn.metrics import accuracy_score\n",
    "from sklearn.metrics import balanced_accuracy_score\n",
    "from sklearn import tree\n",
    "from sklearn.svm import SVC"
   ],
   "metadata": {
    "collapsed": false,
    "ExecuteTime": {
     "start_time": "2023-05-03T17:30:14.226934Z",
     "end_time": "2023-05-03T17:30:19.329636Z"
    }
   }
  },
  {
   "cell_type": "code",
   "execution_count": 2,
   "outputs": [],
   "source": [
    "# prepare data\n",
    "csvFile = pd.read_csv('../Datasets/Dataset2.csv')\n",
    "colNames = list(csvFile.columns)\n",
    "\n",
    "# column names without target\n",
    "colNamesX = colNames.copy()\n",
    "colNamesX.remove('Y')\n",
    "\n",
    "# get the data as numpy array\n",
    "dfX = csvFile[colNamesX]\n",
    "X = dfX.values\n",
    "Y = csvFile['Y'].values\n",
    "\n",
    "# Randomize the data because it could be sorted.\n",
    "numsMe = np.random.permutation(csvFile.shape[0])"
   ],
   "metadata": {
    "collapsed": false,
    "ExecuteTime": {
     "start_time": "2023-05-03T17:30:20.977796Z",
     "end_time": "2023-05-03T17:30:21.014173Z"
    }
   }
  },
  {
   "cell_type": "code",
   "execution_count": 7,
   "metadata": {
    "collapsed": true,
    "ExecuteTime": {
     "start_time": "2023-05-03T17:47:55.250960Z",
     "end_time": "2023-05-03T17:47:56.031893Z"
    }
   },
   "outputs": [
    {
     "data": {
      "text/plain": "<Figure size 640x480 with 1 Axes>",
      "image/png": "[encoded data removed]"
     },
     "metadata": {},
     "output_type": "display_data"
    }
   ],
   "source": [
    "# cross validation for 3,4,5\n",
    "for curr in range(3, 6):\n",
    "    num_folds = curr\n",
    "    score = 0\n",
    "    # implement cross validation\n",
    "    # https://de.mathworks.com/discovery/cross-validation.html\n",
    "    for i in range(0, num_folds):\n",
    "        partition_size = int(np.floor(csvFile.shape[0] / num_folds))\n",
    "        left_border = partition_size * i\n",
    "        right_border = partition_size * (i + 1)\n",
    "        testInds = numsMe[left_border:right_border]\n",
    "        trainInds = np.concatenate((numsMe[0:left_border], numsMe[right_border:csvFile.shape[0]]))\n",
    "\n",
    "        TrainX, TestX = X[trainInds], X[testInds]\n",
    "        TrainY, TestY = Y[trainInds], Y[testInds]\n",
    "\n",
    "        clf_dt = tree.DecisionTreeClassifier()\n",
    "        clf_dt = clf_dt.fit(TrainX, TrainY)\n",
    "\n",
    "        predY_dt = clf_dt.predict(TestX)\n",
    "\n",
    "        score = score + accuracy_score(TestY, predY_dt)\n",
    "    plt.bar(num_folds, score / num_folds)\n",
    "plt.show()"
   ]
  },
  {
   "cell_type": "code",
   "execution_count": 4,
   "outputs": [
    {
     "name": "stdout",
     "output_type": "stream",
     "text": [
      "Threshold: 511\n",
      "Accuracy=0.65625\n"
     ]
    }
   ],
   "source": [
    "# one hot encoding\n",
    "Y_Arr = np.zeros((Y.shape[0], 4))\n",
    "for i in range(Y.shape[0]):\n",
    "    if Y[i] == 0:\n",
    "        Y_Arr[i] = [1, 0, 0, 0]\n",
    "    if Y[i] == 1:\n",
    "        Y_Arr[i] = [0, 1, 0, 0]\n",
    "    elif Y[i] == 2:\n",
    "        Y_Arr[i] = [0, 0, 1, 0]\n",
    "    elif Y[i] == 3:\n",
    "        Y_Arr[i] = [0, 0, 0, 1]\n",
    "\n",
    "_thresh = int(np.floor(csvFile.shape[0] * .8))\n",
    "\n",
    "print(\"Threshold:\", _thresh)\n",
    "trainInds = numsMe[:_thresh]\n",
    "testInds = numsMe[_thresh:]\n",
    "\n",
    "TrainX, TestX = X[trainInds], X[testInds]\n",
    "TrainY, TestY = Y_Arr[trainInds, :], Y_Arr[testInds, :]\n",
    "\n",
    "clf = tree.DecisionTreeClassifier()\n",
    "clf = clf.fit(TrainX, TrainY)\n",
    "\n",
    "preds = clf.predict(TestX)\n",
    "\n",
    "correct_preds = 0\n",
    "for index, i in enumerate(preds):\n",
    "    if np.array_equal(i, TestY[index]):\n",
    "        correct_preds = correct_preds + 1\n",
    "accuracy = correct_preds / len(TestY)\n",
    "print(\"Accuracy=\" + str(accuracy))"
   ],
   "metadata": {
    "collapsed": false,
    "ExecuteTime": {
     "start_time": "2023-05-03T17:35:05.784788Z",
     "end_time": "2023-05-03T17:35:05.865430Z"
    }
   }
  },
  {
   "cell_type": "code",
   "execution_count": null,
   "outputs": [],
   "source": [
    "# dummy encoding (like one hot but without the first column)\n",
    "Y_Arr = np.zeros((Y.shape[0], 3))\n",
    "for i in range(Y.shape[0]):\n",
    "    if Y[i] == 0:\n",
    "        Y_Arr[i] = [0, 0, 0]\n",
    "    if Y[i] == 1:\n",
    "        Y_Arr[i] = [1, 0, 0]\n",
    "    elif Y[i] == 2:\n",
    "        Y_Arr[i] = [0, 1, 0]\n",
    "    elif Y[i] == 3:\n",
    "        Y_Arr[i] = [0, 0, 1]"
   ],
   "metadata": {
    "collapsed": false
   }
  }
 ],
 "metadata": {
  "kernelspec": {
   "display_name": "Python 3",
   "language": "python",
   "name": "python3"
  },
  "language_info": {
   "codemirror_mode": {
    "name": "ipython",
    "version": 2
   },
   "file_extension": ".py",
   "mimetype": "text/x-python",
   "name": "python",
   "nbconvert_exporter": "python",
   "pygments_lexer": "ipython2",
   "version": "2.7.6"
  }
 },
 "nbformat": 4,
 "nbformat_minor": 0
}
