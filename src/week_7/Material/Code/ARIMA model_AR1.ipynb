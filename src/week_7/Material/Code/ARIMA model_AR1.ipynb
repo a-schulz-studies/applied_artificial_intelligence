{
 "cells": [
  {
   "cell_type": "code",
   "execution_count": null,
   "id": "3a4c8d40",
   "metadata": {},
   "outputs": [],
   "source": [
    "import sys\n",
    "!{sys.executable} -m pip install statsmodels"
   ]
  },
  {
   "cell_type": "code",
   "execution_count": null,
   "id": "a86ef0f6",
   "metadata": {},
   "outputs": [],
   "source": [
    "import sklearn\n",
    "sklearn.__version__"
   ]
  },
  {
   "cell_type": "code",
   "execution_count": null,
   "id": "67d8397b",
   "metadata": {},
   "outputs": [],
   "source": [
    "import matplotlib.pyplot as plt\n",
    "import pandas as pd\n",
    "import numpy as np\n",
    "import statsmodels.api as sm\n",
    "import statsmodels.graphics.tsaplots as tsplot\n",
    "from statsmodels.tsa.stattools import adfuller\n",
    "from statsmodels.tsa import stattools as stt\n",
    "from statsmodels import tsa\n",
    "from statsmodels.tsa.arima.model import ARIMA\n",
    "from sklearn.metrics import mean_squared_error\n",
    "from sklearn.metrics import mean_absolute_percentage_error\n",
    "import warnings\n",
    "\n",
    "warnings.filterwarnings(\"ignore\")\n",
    "\n",
    "def is_stationary(df, maxlag=52, autolag=None, regression='ct'):\n",
    "    adf_test = stt.adfuller(df.values,maxlag=maxlag, autolag=autolag, regression=regression)\n",
    "#     print(adf_test)\n",
    "    adf = adf_test[0]\n",
    "    cv_5 = adf_test[4][\"5%\"]\n",
    "    result = adf < cv_5\n",
    "#     print(adf, '--', cv_5, result)\n",
    "    return result\n",
    "\n",
    "\n",
    "def d_param(df, max_lag=52):\n",
    "    d = 0\n",
    "    if ~is_stationary(df):\n",
    "        for i in range(1, max_lag):\n",
    "            if is_stationary(df.diff(i).dropna()):\n",
    "                d = i\n",
    "                break;\n",
    "    return d\n",
    "\n",
    "\n",
    "filePath = \"Datasets/DS_AR1_5766.csv\"\n",
    "\n",
    "\n",
    "csvFile = pd.read_csv(filePath)\n",
    "print(csvFile)"
   ]
  },
  {
   "cell_type": "code",
   "execution_count": null,
   "id": "1e9bf1b2",
   "metadata": {},
   "outputs": [],
   "source": [
    "# df1 = csvFile['Births']\n",
    "df1 = csvFile['Value']\n",
    "X = df1.values\n",
    "plt.plot(X)"
   ]
  },
  {
   "cell_type": "code",
   "execution_count": null,
   "id": "d53a897c",
   "metadata": {},
   "outputs": [],
   "source": [
    "# result = adfuller(X, autolag='aic')\n",
    "result = adfuller(df1, maxlag=52, autolag=None, regression='c')\n",
    "print('ADF Statistic: %f' % result[0])\n",
    "print('p-value: %f' % result[1])\n",
    "print('Critical Values:')\n",
    "for key, value in result[4].items():\n",
    "\tprint('\\t%s: %.3f' % (key, value))\n",
    "\n",
    "print(is_stationary(df1))\n",
    "tsplot.plot_acf(X)\n",
    "plt.figure()\n",
    "tsplot.plot_pacf(X)    \n",
    "plt.show()"
   ]
  },
  {
   "cell_type": "code",
   "execution_count": null,
   "id": "d970f9f7",
   "metadata": {},
   "outputs": [],
   "source": [
    "res = sm.tsa.arma_order_select_ic(df1, ic=[\"aic\", \"bic\"], trend=\"c\")\n",
    "print(res.aic_min_order)\n",
    "print(res.bic_min_order)"
   ]
  },
  {
   "cell_type": "code",
   "execution_count": null,
   "id": "c3d71ff6",
   "metadata": {},
   "outputs": [],
   "source": [
    "trainRatio = .90\n",
    "thresh = int(len(X)*trainRatio)\n",
    "print(thresh)\n",
    "X1 = df1[:thresh]\n",
    "print(X1)\n",
    "d = d_param(X1)\n",
    "res = sm.tsa.arma_order_select_ic(X1, ic=[\"aic\", \"bic\"], trend=\"c\")\n",
    "print(res.aic_min_order)\n",
    "print(res.bic_min_order)\n",
    "\n",
    "d = min([2,d])\n"
   ]
  },
  {
   "cell_type": "code",
   "execution_count": null,
   "id": "1593702e",
   "metadata": {},
   "outputs": [],
   "source": [
    "p = 2\n",
    "q = 1\n",
    "print(p,d,q)"
   ]
  },
  {
   "cell_type": "code",
   "execution_count": null,
   "id": "163c4634",
   "metadata": {},
   "outputs": [],
   "source": [
    "\n",
    "def evaluate_arima_model(X, arima_order, trainRatio):\n",
    "    # prepare training dataset\n",
    "    train_size = int(len(X)*trainRatio)\n",
    "    train, test = X[:train_size], X[train_size:]\n",
    "\n",
    "    history = [x for x in train]\n",
    "    \n",
    "\n",
    "    # make predictions\n",
    "    predictions = []\n",
    "    for i in range(0,len(test)):\n",
    "        history1 = pd.DataFrame(np.asarray(history))\n",
    "\n",
    "        model = ARIMA(history, order=arima_order)\n",
    "        model_fit = model.fit(disp=0)\n",
    "        yhat = model_fit.forecast(steps=1)[0]\n",
    "\n",
    "        predictions.append(yhat)\n",
    "        history.append(test[i])\n",
    "\n",
    "    mse_error = mean_squared_error(test, predictions)\n",
    "    mape_error = mean_absolute_percentage_error(test, predictions)\n",
    "\n",
    "    return mse_error, mape_error, train, test, predictions\n",
    "\n",
    "arima_order = (p,d,q)\n",
    "\n",
    "\n",
    "mse_error, mape_error, train, test, predictions = evaluate_arima_model(df1.values, arima_order, trainRatio)\n",
    "print('MSE:', mse_error)\n",
    "print('MAPE:', mape_error)\n",
    "\n",
    "\n",
    "trainRange = np.arange(0,len(train),1)\n",
    "testRange = np.arange(len(train), len(train) + len(test),1)\n",
    "# print(trainRange)\n",
    "# print(testRange)\n",
    "ax = plt.figure(figsize=(15,5))\n",
    "plt.plot(trainRange, train, 'k')\n",
    "plt.plot(testRange,test,'r')\n",
    "plt.plot(testRange,predictions,'b')\n",
    "ax.legend(['training', 'actual', 'predicted'])\n",
    "plt.xlabel('Time')\n",
    "plt.ylabel('Values')\n",
    "\n",
    "ax1 = plt.figure(figsize=(15,5))\n",
    "plt.plot(testRange,test,'r')\n",
    "plt.plot(testRange,predictions,'b')\n",
    "ax1.legend(['actual', 'predicted'])\n",
    "plt.xlabel('Time')\n",
    "plt.ylabel('Values')\n"
   ]
  },
  {
   "cell_type": "code",
   "execution_count": null,
   "id": "0672fe42",
   "metadata": {},
   "outputs": [],
   "source": []
  }
 ],
 "metadata": {
  "kernelspec": {
   "display_name": "Python 3 (ipykernel)",
   "language": "python",
   "name": "python3"
  },
  "language_info": {
   "codemirror_mode": {
    "name": "ipython",
    "version": 3
   },
   "file_extension": ".py",
   "mimetype": "text/x-python",
   "name": "python",
   "nbconvert_exporter": "python",
   "pygments_lexer": "ipython3",
   "version": "3.8.12"
  }
 },
 "nbformat": 4,
 "nbformat_minor": 5
}
