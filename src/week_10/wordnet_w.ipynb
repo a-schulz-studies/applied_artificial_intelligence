{
 "cells": [
  {
   "cell_type": "code",
   "execution_count": 1,
   "id": "0cfa358c",
   "metadata": {},
   "outputs": [
    {
     "name": "stdout",
     "output_type": "stream",
     "text": [
      "Related words to transport:\n",
      "vehicle\n",
      "convertible\n",
      "cars\n"
     ]
    }
   ],
   "source": [
    "from nltk.corpus import wordnet as wn\n",
    "\n",
    "def find_related_words(word_list, category):\n",
    "    related_words = set()\n",
    "    \n",
    "    # Find synsets related to the category\n",
    "    category_synsets = wn.synsets(category)\n",
    "    \n",
    "    # Iterate over the words in the list\n",
    "    for word in word_list:\n",
    "        # Calculate similarity between word and category synsets\n",
    "        max_similarity = 0\n",
    "        for synset in category_synsets:\n",
    "            for word_synset in wn.synsets(word):\n",
    "                similarity = synset.path_similarity(word_synset)\n",
    "                if similarity and similarity > max_similarity:\n",
    "                    max_similarity = similarity\n",
    "        \n",
    "        # Add word to related_words if similarity threshold is met\n",
    "        if max_similarity > 0.15:\n",
    "            related_words.add(word)\n",
    "    \n",
    "    return related_words\n",
    "\n",
    "# Example usage\n",
    "word_list = ['apple', 'banana', 'carrot', 'potato', 'pear','cars', 'vehicle', 'convertible']\n",
    "category = 'transport'\n",
    "\n",
    "# Find related words from the list to the category\n",
    "related_words = find_related_words(word_list, category)\n",
    "\n",
    "# Print the related words\n",
    "print(\"Related words to\", category + \":\")\n",
    "for word in related_words:\n",
    "    print(word)"
   ]
  },
  {
   "cell_type": "code",
   "execution_count": null,
   "id": "d5d2f84a",
   "metadata": {},
   "outputs": [],
   "source": []
  }
 ],
 "metadata": {
  "kernelspec": {
   "display_name": "Python 3 (ipykernel)",
   "language": "python",
   "name": "python3"
  },
  "language_info": {
   "codemirror_mode": {
    "name": "ipython",
    "version": 3
   },
   "file_extension": ".py",
   "mimetype": "text/x-python",
   "name": "python",
   "nbconvert_exporter": "python",
   "pygments_lexer": "ipython3",
   "version": "3.9.7"
  }
 },
 "nbformat": 4,
 "nbformat_minor": 5
}
