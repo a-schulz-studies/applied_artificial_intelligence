{
 "cells": [
  {
   "cell_type": "code",
   "execution_count": 1,
   "id": "3718c39e",
   "metadata": {
    "ExecuteTime": {
     "start_time": "2023-05-31T17:03:55.080849900Z"
    }
   },
   "outputs": [
    {
     "name": "stdout",
     "output_type": "stream",
     "text": [
      "Downloading data from https://storage.googleapis.com/tensorflow/keras-applications/vgg19/vgg19_weights_tf_dim_ordering_tf_kernels.h5\n",
      "574710816/574710816 [==============================] - 72s 0us/step\n",
      "1/1 [==============================] - 2s 2s/step\n",
      "lawn_mower: 0.5550074577331543\n",
      "soccer_ball: 0.1789812445640564\n",
      "ballplayer: 0.09258676320314407\n"
     ]
    }
   ],
   "source": [
    "import numpy as np\n",
    "from keras.applications.vgg19 import VGG19, preprocess_input, decode_predictions\n",
    "# from keras.preprocessing import image\n",
    "import keras.utils as image\n",
    "\n",
    "# Load the pre-trained VGG19 model\n",
    "model = VGG19(weights='imagenet')\n",
    "\n",
    "# Load and preprocess the input image\n",
    "img_path = 'I2.jpg'  # Replace with the path to your image\n",
    "img = image.load_img(img_path, target_size=(224, 224))\n",
    "x = image.img_to_array(img)\n",
    "x = np.expand_dims(x, axis=0)\n",
    "x = preprocess_input(x)\n",
    "\n",
    "# Make predictions on the image\n",
    "predictions = model.predict(x)\n",
    "decoded_predictions = decode_predictions(predictions, top=3)[0]\n",
    "\n",
    "# Print the top 3 predictions\n",
    "for _, class_name, prob in decoded_predictions:\n",
    "    print(f'{class_name}: {prob}')\n"
   ]
  },
  {
   "cell_type": "code",
   "execution_count": null,
   "id": "ef135dc0",
   "metadata": {},
   "outputs": [],
   "source": []
  }
 ],
 "metadata": {
  "kernelspec": {
   "display_name": "Python 3 (ipykernel)",
   "language": "python",
   "name": "python3"
  },
  "language_info": {
   "codemirror_mode": {
    "name": "ipython",
    "version": 3
   },
   "file_extension": ".py",
   "mimetype": "text/x-python",
   "name": "python",
   "nbconvert_exporter": "python",
   "pygments_lexer": "ipython3",
   "version": "3.9.7"
  }
 },
 "nbformat": 4,
 "nbformat_minor": 5
}
