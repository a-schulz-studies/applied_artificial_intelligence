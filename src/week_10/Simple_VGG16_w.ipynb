{
 "cells": [
  {
   "cell_type": "code",
   "execution_count": 5,
   "id": "8b866102",
   "metadata": {},
   "outputs": [
    {
     "name": "stdout",
     "output_type": "stream",
     "text": [
      "1/1 [==============================] - 0s 290ms/step\n",
      "convertible: 0.6561403274536133\n",
      "sports_car: 0.08867453783750534\n",
      "limousine: 0.0885283574461937\n"
     ]
    }
   ],
   "source": [
    "import tensorflow as tf\n",
    "from tensorflow.keras.applications import VGG16\n",
    "from tensorflow.keras.preprocessing import image\n",
    "from tensorflow.keras.applications.vgg16 import preprocess_input, decode_predictions\n",
    "import numpy as np\n",
    "\n",
    "\n",
    "# Load and preprocess the input image\n",
    "# img_path = 'cat.jpg'\n",
    "img_path = 'car.jpg'\n",
    "img = image.load_img(img_path, target_size=(224, 224))\n",
    "x = image.img_to_array(img)\n",
    "x = np.expand_dims(x, axis=0)\n",
    "x = preprocess_input(x)\n",
    "\n",
    "# Load the VGG16 model\n",
    "model = VGG16(weights='imagenet')\n",
    "\n",
    "\n",
    "\n",
    "# Make predictions\n",
    "preds = model.predict(x)\n",
    "decoded_preds = decode_predictions(preds, top=3)[0]\n",
    "\n",
    "# Print the top predictions\n",
    "for _, label, prob in decoded_preds:\n",
    "    print(f\"{label}: {prob}\")\n",
    "    "
   ]
  },
  {
   "cell_type": "code",
   "execution_count": null,
   "id": "14e03d19",
   "metadata": {},
   "outputs": [],
   "source": [
    "import os\n",
    "import cv2\n",
    "import numpy as np\n",
    "from tensorflow.keras.preprocessing import image_input\n",
    "\n",
    "# Specify the path to the dataset directory\n",
    "dataset_dir = 'C:/Users/schul/OneDrive - HTW Dresden/Documents/6._Semester/Applied_AI/Code/src/week_10/Datasets'\n",
    "\n",
    "target_size = (128, 128)\n",
    "\n",
    "\n",
    "# Initialize lists to store the images and labels\n",
    "images = []\n",
    "labels = []\n",
    "preprocess_input = []\n",
    "\n",
    "# Iterate over the subdirectories in the dataset directory\n",
    "for subdir in os.listdir(dataset_dir):\n",
    "    subdir_path = os.path.join(dataset_dir, subdir)\n",
    "    if os.path.isdir(subdir_path):\n",
    "        # Extract the class label from the subdirectory name\n",
    "        label = subdir\n",
    "        # Iterate over the image files in the subdirectory\n",
    "        for file_name in os.listdir(subdir_path):\n",
    "            # Read the image file\n",
    "            image_path = os.path.join(subdir_path, file_name)\n",
    "\n",
    "            # try:\n",
    "            labels.append(label)\n",
    "            image_input = cv2.imread(image_path, cv2.COLOR_BGR2GRAY)\n",
    "            # Preprocess the image (resize, normalize, etc.)\n",
    "            image_input = cv2.resize(image_input, target_size)\n",
    "            images.append(image_input)\n",
    "            img = image_input.load_img(image_path, target_size=(224, 224))\n",
    "            x = image_input.img_to_array(img)\n",
    "            x = np.expand_dims(x, axis=0)\n",
    "            preprocess_input.append(preprocess_input(x))\n",
    "            print(\"test\")\n",
    "            # except Exception as e:\n",
    "            #     1+1\n",
    "\n",
    "# Convert the lists to NumPy arrays\n",
    "images = np.array(images)\n",
    "labels = np.array(labels)\n",
    "print(images.shape)\n",
    "print(labels)\n",
    "print(preprocess_input)"
   ]
  }
 ],
 "metadata": {
  "kernelspec": {
   "display_name": "Python 3 (ipykernel)",
   "language": "python",
   "name": "python3"
  },
  "language_info": {
   "codemirror_mode": {
    "name": "ipython",
    "version": 3
   },
   "file_extension": ".py",
   "mimetype": "text/x-python",
   "name": "python",
   "nbconvert_exporter": "python",
   "pygments_lexer": "ipython3",
   "version": "3.9.7"
  }
 },
 "nbformat": 4,
 "nbformat_minor": 5
}
